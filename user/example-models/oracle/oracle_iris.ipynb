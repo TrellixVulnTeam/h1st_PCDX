{
 "cells": [
  {
   "cell_type": "code",
   "execution_count": 13,
   "metadata": {},
   "outputs": [],
   "source": [
    "%load_ext autoreload\n",
    "%autoreload 2"
   ]
  },
  {
   "cell_type": "code",
   "execution_count": 14,
   "metadata": {},
   "outputs": [],
   "source": [
    "from oracle_w_fuzzy import load_data\n",
    "import pandas as pd"
   ]
  },
  {
   "cell_type": "code",
   "execution_count": 15,
   "metadata": {},
   "outputs": [],
   "source": [
    "# from sklearn.datasets import load_breast_cancer\n",
    "# data = load_breast_cancer(as_frame=True)"
   ]
  },
  {
   "cell_type": "code",
   "execution_count": 200,
   "metadata": {},
   "outputs": [],
   "source": [
    "from h1st.model.predictive_model import PredictiveModel\n",
    "\n",
    "class RuleModel(PredictiveModel):\n",
    "    sepal_length_max: float = 5.3\n",
    "    sepal_length_min: float = 3.7\n",
    "    sepal_width_max: float = 4.4\n",
    "    sepal_width_min: float = 3\n",
    "    \n",
    "    def predict(self, data):\n",
    "        df = data['x']\n",
    "        return {'predictions': pd.DataFrame(\n",
    "            map(self.predict_setosa, df['sepal_length'], df['sepal_width']), \n",
    "            columns=['setosa'])}\n",
    "\n",
    "    def predict_setosa(self, sepal_length, sepal_width):\n",
    "        return 1 if (self.sepal_length_min <= sepal_length <= self.sepal_length_max) \\\n",
    "                  & (self.sepal_width_min <= sepal_width <= self.sepal_width_max) \\\n",
    "               else 0"
   ]
  },
  {
   "cell_type": "code",
   "execution_count": null,
   "metadata": {},
   "outputs": [],
   "source": []
  },
  {
   "cell_type": "code",
   "execution_count": 209,
   "metadata": {},
   "outputs": [],
   "source": [
    "import numpy as np\n",
    "from h1st.model.fuzzy import (\n",
    "    FuzzyVariables,\n",
    "    FuzzyMembership as fm,\n",
    "    FuzzyRules,\n",
    "    FuzzyModeler\n",
    ")\n",
    "\n",
    "def get_meta_data(data):\n",
    "    res = {}\n",
    "    for k, v in data.max().to_dict().items():\n",
    "        res[k] = {'max': v}\n",
    "    for k, v in data.min().to_dict().items():\n",
    "        res[k].update({'min': v})    \n",
    "    return res\n",
    "\n",
    "def create_fuzzy_model(data):\n",
    "    meta_data = get_meta_data(data)\n",
    "    fuzzy_vars = FuzzyVariables()\n",
    "    fuzzy_vars.add(\n",
    "        var_name='sepal_length',\n",
    "        var_type='antecedent',\n",
    "        var_range=np.arange(\n",
    "            meta_data['sepal_length']['min'], \n",
    "            meta_data['sepal_length']['max'], \n",
    "            0.1\n",
    "        ),\n",
    "        membership_funcs=[('small', fm.SIGMOID, [5.3, -2.5]),\n",
    "                            ('large', fm.SIGMOID, [5.3, 2.5])]\n",
    "    )\n",
    "    fuzzy_vars.add(\n",
    "        var_name='sepal_width',\n",
    "        var_type='antecedent',\n",
    "        var_range=np.arange(\n",
    "            meta_data['sepal_width']['min'], \n",
    "            meta_data['sepal_width']['max'], \n",
    "            0.1\n",
    "        ),\n",
    "        membership_funcs=[('small', fm.SIGMOID, [3.1, -2.0]),\n",
    "                            ('large', fm.SIGMOID, [3.1, 2.0])]\n",
    "    )\n",
    "    fuzzy_vars.add(\n",
    "        var_name='setosa',\n",
    "        var_type='consequent',\n",
    "        var_range=np.arange(0, 1+1e-5, 0.1),\n",
    "        membership_funcs=[('false', fm.GAUSSIAN, [0, 0.5]),\n",
    "                        ('true', fm.GAUSSIAN, [1, 0.5])]\n",
    "    )\n",
    "\n",
    "    fuzzy_rule = FuzzyRules()\n",
    "    fuzzy_rule.add(\n",
    "        'rule1',\n",
    "        if_term=fuzzy_vars.get('sepal_length')['small'] & fuzzy_vars.get('sepal_width')['large'],\n",
    "        then_term=fuzzy_vars.get('setosa')['true']\n",
    "    )\n",
    "    fuzzy_rule.add(\n",
    "        'rule2',\n",
    "        if_term=fuzzy_vars.get('sepal_length')['large'] & fuzzy_vars.get('sepal_width')['small'],\n",
    "        then_term=fuzzy_vars.get('setosa')['false']\n",
    "    )\n",
    "\n",
    "    modeler = FuzzyModeler()\n",
    "    teacher = modeler.build_model(fuzzy_vars, fuzzy_rule)\n",
    "    return teacher"
   ]
  },
  {
   "cell_type": "code",
   "execution_count": 210,
   "metadata": {},
   "outputs": [],
   "source": [
    "from sklearn import datasets"
   ]
  },
  {
   "cell_type": "code",
   "execution_count": 211,
   "metadata": {},
   "outputs": [],
   "source": [
    "df_raw = datasets.load_iris(as_frame=True).frame\n",
    "df_raw.columns = [\n",
    "    \"sepal_length\",\n",
    "    \"sepal_width\",\n",
    "    \"petal_length\",\n",
    "    \"petal_width\",\n",
    "    \"setosa\",\n",
    "]\n",
    "df_raw = df_raw[[\n",
    "    \"sepal_length\",\n",
    "    \"sepal_width\",\n",
    "    \"setosa\"]]\n",
    "df_raw[\"setosa\"] = df_raw[\"setosa\"].apply(lambda x: 1 if x == 0 else 0)"
   ]
  },
  {
   "cell_type": "code",
   "execution_count": 212,
   "metadata": {},
   "outputs": [
    {
     "data": {
      "text/plain": [
       "0    100\n",
       "1     50\n",
       "Name: setosa, dtype: int64"
      ]
     },
     "execution_count": 212,
     "metadata": {},
     "output_type": "execute_result"
    }
   ],
   "source": [
    "df_raw[\"setosa\"].value_counts()"
   ]
  },
  {
   "cell_type": "code",
   "execution_count": 213,
   "metadata": {},
   "outputs": [],
   "source": [
    "# fuzzy_teacher = create_fuzzy_model(df_raw)\n",
    "# fuzzy_teacher.visualize_variables()"
   ]
  },
  {
   "cell_type": "code",
   "execution_count": 226,
   "metadata": {},
   "outputs": [
    {
     "name": "stdout",
     "output_type": "stream",
     "text": [
      "(100, 2)\n"
     ]
    },
    {
     "name": "stderr",
     "output_type": "stream",
     "text": [
      "INFO:root:Evaluated all sub models successfully.\n",
      "INFO:root:Evaluated all sub models successfully.\n",
      "INFO:root:Evaluated all sub models successfully.\n",
      "INFO:root:Evaluated all sub models successfully.\n",
      "INFO:root:Evaluated all sub models successfully.\n",
      "INFO:root:Evaluated all sub models successfully.\n"
     ]
    },
    {
     "name": "stdout",
     "output_type": "stream",
     "text": [
      "(100, 2)\n"
     ]
    },
    {
     "name": "stderr",
     "output_type": "stream",
     "text": [
      "INFO:root:Evaluated all sub models successfully.\n",
      "INFO:root:Evaluated all sub models successfully.\n",
      "INFO:root:Evaluated all sub models successfully.\n",
      "INFO:root:Evaluated all sub models successfully.\n",
      "INFO:root:Evaluated all sub models successfully.\n",
      "INFO:root:Evaluated all sub models successfully.\n",
      "INFO:root:Evaluated all sub models successfully.\n"
     ]
    },
    {
     "name": "stdout",
     "output_type": "stream",
     "text": [
      "(100, 2)\n"
     ]
    },
    {
     "name": "stderr",
     "output_type": "stream",
     "text": [
      "INFO:root:Evaluated all sub models successfully.\n",
      "INFO:root:Evaluated all sub models successfully.\n",
      "INFO:root:Evaluated all sub models successfully.\n",
      "INFO:root:Evaluated all sub models successfully.\n",
      "INFO:root:Evaluated all sub models successfully.\n"
     ]
    }
   ],
   "source": [
    "# scikit-learn k-fold cross-validation\n",
    "from collections import defaultdict\n",
    "from numpy import array\n",
    "from sklearn.model_selection import KFold\n",
    "from h1st.model.oracle import OracleModeler\n",
    "from h1st.model.oracle.ensemble import GradBoostEnsembleModeler\n",
    "\n",
    "# prepare cross validation\n",
    "kfold = KFold(n_splits=3, shuffle=True, random_state=1)\n",
    "\n",
    "all_metrics = defaultdict(lambda: defaultdict(list))\n",
    "all_index = defaultdict(lambda: defaultdict(list))\n",
    "\n",
    "# 1. build rule-based model\n",
    "bool_teacher = RuleModel()\n",
    "fuzzy_teacher = create_fuzzy_model(df_raw)\n",
    "\n",
    "# enumerate splits\n",
    "for no, data_idx in enumerate(kfold.split(df_raw)):\n",
    "    train, test = data_idx\n",
    "    # 2. prepare data\n",
    "    df_train, df_test = df_raw.iloc[train], df_raw.iloc[test]\n",
    "    input_data = {\n",
    "        \"unlabeled_data\": df_train[[\"sepal_length\", \"sepal_width\"]],\n",
    "        \"labeled_data\": {\n",
    "            \"x_train\": df_train[[\"sepal_length\", \"sepal_width\"]],\n",
    "            \"y_train\": df_train[[\"setosa\"]],\n",
    "            \"x_test\": df_test[[\"sepal_length\", \"sepal_width\"]],\n",
    "            \"y_test\": df_test[[\"setosa\"]],\n",
    "        },\n",
    "    }\n",
    "\n",
    "    # 3. build oracle\n",
    "    # 3.1 bool\n",
    "    modeler = OracleModeler()\n",
    "    oracle_with_bool = modeler.build_model(\n",
    "        data=input_data,\n",
    "        teacher=bool_teacher)\n",
    "    \n",
    "    # 3.2 fuzzy\n",
    "    fuzzy_thresholds = {'setosa': 0.55}\n",
    "    oracle_with_fuzzy = modeler.build_model(\n",
    "        data=input_data,\n",
    "        teacher=fuzzy_teacher,\n",
    "        fuzzy_thresholds=fuzzy_thresholds)\n",
    "\n",
    "    # 3.3 bool + ml_ensemble\n",
    "    oracle_with_bool_ml = modeler.build_model(\n",
    "        data=input_data, \n",
    "        teacher=bool_teacher,\n",
    "        ensembler_modeler=GradBoostEnsembleModeler())\n",
    "\n",
    "    # 3.4 fuzzy + ml_ensemble\n",
    "    fuzzy_thresholds = {'setosa': 0.55}\n",
    "    oracle_with_fuzzy_ml = modeler.build_model(\n",
    "        data=input_data, \n",
    "        teacher=fuzzy_teacher,\n",
    "        fuzzy_thresholds=fuzzy_thresholds,\n",
    "        ensembler_modeler=GradBoostEnsembleModeler()) \n",
    "\n",
    "    # 3.5 bool + ml_ensemble + x\n",
    "    oracle_with_bool_ml_x = modeler.build_model(\n",
    "        data=input_data, \n",
    "        teacher=bool_teacher,\n",
    "        ensembler_modeler=GradBoostEnsembleModeler(),\n",
    "        inject_x_in_ensembler=True)\n",
    "\n",
    "    # 3.6 fuzzy + ml_ensemble + x\n",
    "    fuzzy_thresholds = {'setosa': 0.55}\n",
    "    oracle_with_fuzzy_ml_x = modeler.build_model(\n",
    "        data=input_data, \n",
    "        teacher=fuzzy_teacher,\n",
    "        fuzzy_thresholds=fuzzy_thresholds,\n",
    "        ensembler_modeler=GradBoostEnsembleModeler(),\n",
    "        inject_x_in_ensembler=True) \n",
    "\n",
    "    model_map = {\n",
    "        \"oracle_with_bool\": oracle_with_bool,\n",
    "        \"oracle_with_fuzzy\": oracle_with_fuzzy,\n",
    "        \"oracle_with_bool_ml\": oracle_with_bool_ml,\n",
    "        \"oracle_with_fuzzy_ml\": oracle_with_fuzzy_ml,\n",
    "        \"oracle_with_bool_ml_x\": oracle_with_bool_ml_x,\n",
    "        \"oracle_with_fuzzy_ml_x\": oracle_with_fuzzy_ml_x,        \n",
    "    }\n",
    "\n",
    "    # 4. collect evaluation results\n",
    "    for name, oracle in model_map.items():\n",
    "        for metrics in ['f1_score', 'precision', 'recall']:\n",
    "            temp = oracle.metrics[metrics]['setosa']\n",
    "            s1, s2 = temp.pop('students')\n",
    "            temp.update({'student1': s1, 'student2': s2})\n",
    "            all_metrics[metrics][name].append(temp)\n",
    "            all_index[metrics][name].append(f'{name}_{no}')"
   ]
  },
  {
   "cell_type": "code",
   "execution_count": 219,
   "metadata": {},
   "outputs": [
    {
     "data": {
      "text/plain": [
       "(100, 2)"
      ]
     },
     "execution_count": 219,
     "metadata": {},
     "output_type": "execute_result"
    }
   ],
   "source": [
    "input_data['labeled_data']['x_train'].dropna().shape"
   ]
  },
  {
   "cell_type": "code",
   "execution_count": 221,
   "metadata": {},
   "outputs": [
    {
     "data": {
      "text/plain": [
       "(50, 2)"
      ]
     },
     "execution_count": 221,
     "metadata": {},
     "output_type": "execute_result"
    }
   ],
   "source": [
    "input_data['labeled_data']['x_test'].dropna().shape"
   ]
  },
  {
   "cell_type": "code",
   "execution_count": 215,
   "metadata": {},
   "outputs": [
    {
     "data": {
      "text/html": [
       "<div>\n",
       "<style scoped>\n",
       "    .dataframe tbody tr th:only-of-type {\n",
       "        vertical-align: middle;\n",
       "    }\n",
       "\n",
       "    .dataframe tbody tr th {\n",
       "        vertical-align: top;\n",
       "    }\n",
       "\n",
       "    .dataframe thead th {\n",
       "        text-align: right;\n",
       "    }\n",
       "</style>\n",
       "<table border=\"1\" class=\"dataframe\">\n",
       "  <thead>\n",
       "    <tr style=\"text-align: right;\">\n",
       "      <th></th>\n",
       "      <th>metrics_type</th>\n",
       "      <th>teacher</th>\n",
       "      <th>ensemblers</th>\n",
       "      <th>student1</th>\n",
       "      <th>student2</th>\n",
       "    </tr>\n",
       "  </thead>\n",
       "  <tbody>\n",
       "    <tr>\n",
       "      <th>oracle_with_bool</th>\n",
       "      <td>f1_score</td>\n",
       "      <td>0.863713</td>\n",
       "      <td>0.874360</td>\n",
       "      <td>0.874360</td>\n",
       "      <td>0.935007</td>\n",
       "    </tr>\n",
       "    <tr>\n",
       "      <th>oracle_with_fuzzy</th>\n",
       "      <td>f1_score</td>\n",
       "      <td>0.866383</td>\n",
       "      <td>0.887653</td>\n",
       "      <td>0.887653</td>\n",
       "      <td>0.946387</td>\n",
       "    </tr>\n",
       "    <tr>\n",
       "      <th>oracle_with_bool</th>\n",
       "      <td>precision</td>\n",
       "      <td>1.000000</td>\n",
       "      <td>1.000000</td>\n",
       "      <td>1.000000</td>\n",
       "      <td>1.000000</td>\n",
       "    </tr>\n",
       "    <tr>\n",
       "      <th>oracle_with_fuzzy</th>\n",
       "      <td>precision</td>\n",
       "      <td>1.000000</td>\n",
       "      <td>1.000000</td>\n",
       "      <td>1.000000</td>\n",
       "      <td>1.000000</td>\n",
       "    </tr>\n",
       "    <tr>\n",
       "      <th>oracle_with_bool</th>\n",
       "      <td>recall</td>\n",
       "      <td>0.764557</td>\n",
       "      <td>0.782103</td>\n",
       "      <td>0.782103</td>\n",
       "      <td>0.878077</td>\n",
       "    </tr>\n",
       "    <tr>\n",
       "      <th>oracle_with_fuzzy</th>\n",
       "      <td>recall</td>\n",
       "      <td>0.766620</td>\n",
       "      <td>0.805913</td>\n",
       "      <td>0.805913</td>\n",
       "      <td>0.899823</td>\n",
       "    </tr>\n",
       "  </tbody>\n",
       "</table>\n",
       "</div>"
      ],
      "text/plain": [
       "                  metrics_type   teacher  ensemblers  student1  student2\n",
       "oracle_with_bool      f1_score  0.863713    0.874360  0.874360  0.935007\n",
       "oracle_with_fuzzy     f1_score  0.866383    0.887653  0.887653  0.946387\n",
       "oracle_with_bool     precision  1.000000    1.000000  1.000000  1.000000\n",
       "oracle_with_fuzzy    precision  1.000000    1.000000  1.000000  1.000000\n",
       "oracle_with_bool        recall  0.764557    0.782103  0.782103  0.878077\n",
       "oracle_with_fuzzy       recall  0.766620    0.805913  0.805913  0.899823"
      ]
     },
     "execution_count": 215,
     "metadata": {},
     "output_type": "execute_result"
    }
   ],
   "source": [
    "all_avg_metrics = []\n",
    "oracle_names = []\n",
    "for metrics_type in ['f1_score', 'precision', 'recall']:\n",
    "    for oracle_name, metrics in all_metrics[metrics_type].items():\n",
    "        df_metrics = pd.DataFrame(metrics)\n",
    "        # print(metrics_type, oracle_name, df_metrics.mean().values)\n",
    "        all_avg_metrics.append(\n",
    "            [metrics_type] + list(df_metrics.mean().values)\n",
    "        )\n",
    "        oracle_names.append(oracle_name)\n",
    "\n",
    "final_metrics = pd.DataFrame(\n",
    "    all_avg_metrics,\n",
    "    columns=['metrics_type', 'teacher', 'ensemblers', 'student1', 'student2'],\n",
    "    index=oracle_names\n",
    ")\n",
    "\n",
    "final_metrics"
   ]
  },
  {
   "cell_type": "code",
   "execution_count": null,
   "metadata": {},
   "outputs": [],
   "source": []
  },
  {
   "cell_type": "code",
   "execution_count": 68,
   "metadata": {},
   "outputs": [
    {
     "data": {
      "text/plain": [
       "{'f1_score': {'setosa': {'teacher': 0.82927,\n",
       "   'students': [0.82927, 0.95],\n",
       "   'ensemblers': 0.94444}},\n",
       " 'precision': {'setosa': {'teacher': 0.77273,\n",
       "   'students': [0.77273, 0.90476],\n",
       "   'ensemblers': 1.0}},\n",
       " 'recall': {'setosa': {'teacher': 0.89474,\n",
       "   'students': [0.89474, 1.0],\n",
       "   'ensemblers': 0.89474}}}"
      ]
     },
     "execution_count": 68,
     "metadata": {},
     "output_type": "execute_result"
    }
   ],
   "source": [
    "oracle_with_fuzzy.metrics"
   ]
  },
  {
   "cell_type": "code",
   "execution_count": null,
   "metadata": {},
   "outputs": [],
   "source": []
  },
  {
   "cell_type": "code",
   "execution_count": 37,
   "metadata": {},
   "outputs": [
    {
     "data": {
      "application/vnd.plotly.v1+json": {
       "config": {
        "plotlyServerURL": "https://plot.ly"
       },
       "data": [
        {
         "hovertemplate": "<b>SepalWidthCm:</b> %{x} <br><b>SepalLengthCm:</b> %{y}",
         "marker": {
          "color": "rgb(52, 152, 219)",
          "line": {
           "width": 1.5
          },
          "opacity": 0.8,
          "size": 12,
          "symbol": "star-triangle-up"
         },
         "mode": "markers",
         "name": "Setosa",
         "type": "scatter",
         "x": [
          3.5,
          3,
          3.2,
          3.1,
          3.6,
          3.9,
          3.4,
          3.4,
          2.9,
          3.1,
          3.7,
          3.4,
          3,
          3,
          4,
          4.4,
          3.9,
          3.5,
          3.8,
          3.8,
          3.4,
          3.7,
          3.6,
          3.3,
          3.4,
          3,
          3.4,
          3.5,
          3.4,
          3.2,
          3.1,
          3.4,
          4.1,
          4.2,
          3.1,
          3.2,
          3.5,
          3.6,
          3,
          3.4,
          3.5,
          2.3,
          3.2,
          3.5,
          3.8,
          3,
          3.8,
          3.2,
          3.7,
          3.3
         ],
         "y": [
          5.1,
          4.9,
          4.7,
          4.6,
          5,
          5.4,
          4.6,
          5,
          4.4,
          4.9,
          5.4,
          4.8,
          4.8,
          4.3,
          5.8,
          5.7,
          5.4,
          5.1,
          5.7,
          5.1,
          5.4,
          5.1,
          4.6,
          5.1,
          4.8,
          5,
          5,
          5.2,
          5.2,
          4.7,
          4.8,
          5.4,
          5.2,
          5.5,
          4.9,
          5,
          5.5,
          4.9,
          4.4,
          5.1,
          5,
          4.5,
          4.4,
          5,
          5.1,
          4.8,
          5.1,
          4.6,
          5.3,
          5
         ]
        },
        {
         "hovertemplate": "<b>SepalWidthCm:</b> %{x} <br><b>SepalLengthCm:</b> %{y}",
         "marker": {
          "color": "rgb(170, 128, 255)",
          "line": {
           "width": 1.5
          },
          "opacity": 0.8,
          "size": 12,
          "symbol": "hexagram"
         },
         "mode": "markers",
         "name": "Non-Setosa",
         "type": "scatter",
         "x": [
          3.2,
          3.2,
          3.1,
          2.3,
          2.8,
          2.8,
          3.3,
          2.4,
          2.9,
          2.7,
          2,
          3,
          2.2,
          2.9,
          2.9,
          3.1,
          3,
          2.7,
          2.2,
          2.5,
          3.2,
          2.8,
          2.5,
          2.8,
          2.9,
          3,
          2.8,
          3,
          2.9,
          2.6,
          2.4,
          2.4,
          2.7,
          2.7,
          3,
          3.4,
          3.1,
          2.3,
          3,
          2.5,
          2.6,
          3,
          2.6,
          2.3,
          2.7,
          3,
          2.9,
          2.9,
          2.5,
          2.8,
          3.3,
          2.7,
          3,
          2.9,
          3,
          3,
          2.5,
          2.9,
          2.5,
          3.6,
          3.2,
          2.7,
          3,
          2.5,
          2.8,
          3.2,
          3,
          3.8,
          2.6,
          2.2,
          3.2,
          2.8,
          2.8,
          2.7,
          3.3,
          3.2,
          2.8,
          3,
          2.8,
          3,
          2.8,
          3.8,
          2.8,
          2.8,
          2.6,
          3,
          3.4,
          3.1,
          3,
          3.1,
          3.1,
          3.1,
          2.7,
          3.2,
          3.3,
          3,
          2.5,
          3,
          3.4,
          3
         ],
         "y": [
          7,
          6.4,
          6.9,
          5.5,
          6.5,
          5.7,
          6.3,
          4.9,
          6.6,
          5.2,
          5,
          5.9,
          6,
          6.1,
          5.6,
          6.7,
          5.6,
          5.8,
          6.2,
          5.6,
          5.9,
          6.1,
          6.3,
          6.1,
          6.4,
          6.6,
          6.8,
          6.7,
          6,
          5.7,
          5.5,
          5.5,
          5.8,
          6,
          5.4,
          6,
          6.7,
          6.3,
          5.6,
          5.5,
          5.5,
          6.1,
          5.8,
          5,
          5.6,
          5.7,
          5.7,
          6.2,
          5.1,
          5.7,
          6.3,
          5.8,
          7.1,
          6.3,
          6.5,
          7.6,
          4.9,
          7.3,
          6.7,
          7.2,
          6.5,
          6.4,
          6.8,
          5.7,
          5.8,
          6.4,
          6.5,
          7.7,
          7.7,
          6,
          6.9,
          5.6,
          7.7,
          6.3,
          6.7,
          7.2,
          6.2,
          6.1,
          6.4,
          7.2,
          7.4,
          7.9,
          6.4,
          6.3,
          6.1,
          7.7,
          6.3,
          6.4,
          6,
          6.9,
          6.7,
          6.9,
          5.8,
          6.8,
          6.7,
          6.7,
          6.3,
          6.5,
          6.2,
          5.9
         ]
        }
       ],
       "layout": {
        "template": {
         "data": {
          "bar": [
           {
            "error_x": {
             "color": "#2a3f5f"
            },
            "error_y": {
             "color": "#2a3f5f"
            },
            "marker": {
             "line": {
              "color": "white",
              "width": 0.5
             },
             "pattern": {
              "fillmode": "overlay",
              "size": 10,
              "solidity": 0.2
             }
            },
            "type": "bar"
           }
          ],
          "barpolar": [
           {
            "marker": {
             "line": {
              "color": "white",
              "width": 0.5
             },
             "pattern": {
              "fillmode": "overlay",
              "size": 10,
              "solidity": 0.2
             }
            },
            "type": "barpolar"
           }
          ],
          "carpet": [
           {
            "aaxis": {
             "endlinecolor": "#2a3f5f",
             "gridcolor": "#C8D4E3",
             "linecolor": "#C8D4E3",
             "minorgridcolor": "#C8D4E3",
             "startlinecolor": "#2a3f5f"
            },
            "baxis": {
             "endlinecolor": "#2a3f5f",
             "gridcolor": "#C8D4E3",
             "linecolor": "#C8D4E3",
             "minorgridcolor": "#C8D4E3",
             "startlinecolor": "#2a3f5f"
            },
            "type": "carpet"
           }
          ],
          "choropleth": [
           {
            "colorbar": {
             "outlinewidth": 0,
             "ticks": ""
            },
            "type": "choropleth"
           }
          ],
          "contour": [
           {
            "colorbar": {
             "outlinewidth": 0,
             "ticks": ""
            },
            "colorscale": [
             [
              0,
              "#0d0887"
             ],
             [
              0.1111111111111111,
              "#46039f"
             ],
             [
              0.2222222222222222,
              "#7201a8"
             ],
             [
              0.3333333333333333,
              "#9c179e"
             ],
             [
              0.4444444444444444,
              "#bd3786"
             ],
             [
              0.5555555555555556,
              "#d8576b"
             ],
             [
              0.6666666666666666,
              "#ed7953"
             ],
             [
              0.7777777777777778,
              "#fb9f3a"
             ],
             [
              0.8888888888888888,
              "#fdca26"
             ],
             [
              1,
              "#f0f921"
             ]
            ],
            "type": "contour"
           }
          ],
          "contourcarpet": [
           {
            "colorbar": {
             "outlinewidth": 0,
             "ticks": ""
            },
            "type": "contourcarpet"
           }
          ],
          "heatmap": [
           {
            "colorbar": {
             "outlinewidth": 0,
             "ticks": ""
            },
            "colorscale": [
             [
              0,
              "#0d0887"
             ],
             [
              0.1111111111111111,
              "#46039f"
             ],
             [
              0.2222222222222222,
              "#7201a8"
             ],
             [
              0.3333333333333333,
              "#9c179e"
             ],
             [
              0.4444444444444444,
              "#bd3786"
             ],
             [
              0.5555555555555556,
              "#d8576b"
             ],
             [
              0.6666666666666666,
              "#ed7953"
             ],
             [
              0.7777777777777778,
              "#fb9f3a"
             ],
             [
              0.8888888888888888,
              "#fdca26"
             ],
             [
              1,
              "#f0f921"
             ]
            ],
            "type": "heatmap"
           }
          ],
          "heatmapgl": [
           {
            "colorbar": {
             "outlinewidth": 0,
             "ticks": ""
            },
            "colorscale": [
             [
              0,
              "#0d0887"
             ],
             [
              0.1111111111111111,
              "#46039f"
             ],
             [
              0.2222222222222222,
              "#7201a8"
             ],
             [
              0.3333333333333333,
              "#9c179e"
             ],
             [
              0.4444444444444444,
              "#bd3786"
             ],
             [
              0.5555555555555556,
              "#d8576b"
             ],
             [
              0.6666666666666666,
              "#ed7953"
             ],
             [
              0.7777777777777778,
              "#fb9f3a"
             ],
             [
              0.8888888888888888,
              "#fdca26"
             ],
             [
              1,
              "#f0f921"
             ]
            ],
            "type": "heatmapgl"
           }
          ],
          "histogram": [
           {
            "marker": {
             "pattern": {
              "fillmode": "overlay",
              "size": 10,
              "solidity": 0.2
             }
            },
            "type": "histogram"
           }
          ],
          "histogram2d": [
           {
            "colorbar": {
             "outlinewidth": 0,
             "ticks": ""
            },
            "colorscale": [
             [
              0,
              "#0d0887"
             ],
             [
              0.1111111111111111,
              "#46039f"
             ],
             [
              0.2222222222222222,
              "#7201a8"
             ],
             [
              0.3333333333333333,
              "#9c179e"
             ],
             [
              0.4444444444444444,
              "#bd3786"
             ],
             [
              0.5555555555555556,
              "#d8576b"
             ],
             [
              0.6666666666666666,
              "#ed7953"
             ],
             [
              0.7777777777777778,
              "#fb9f3a"
             ],
             [
              0.8888888888888888,
              "#fdca26"
             ],
             [
              1,
              "#f0f921"
             ]
            ],
            "type": "histogram2d"
           }
          ],
          "histogram2dcontour": [
           {
            "colorbar": {
             "outlinewidth": 0,
             "ticks": ""
            },
            "colorscale": [
             [
              0,
              "#0d0887"
             ],
             [
              0.1111111111111111,
              "#46039f"
             ],
             [
              0.2222222222222222,
              "#7201a8"
             ],
             [
              0.3333333333333333,
              "#9c179e"
             ],
             [
              0.4444444444444444,
              "#bd3786"
             ],
             [
              0.5555555555555556,
              "#d8576b"
             ],
             [
              0.6666666666666666,
              "#ed7953"
             ],
             [
              0.7777777777777778,
              "#fb9f3a"
             ],
             [
              0.8888888888888888,
              "#fdca26"
             ],
             [
              1,
              "#f0f921"
             ]
            ],
            "type": "histogram2dcontour"
           }
          ],
          "mesh3d": [
           {
            "colorbar": {
             "outlinewidth": 0,
             "ticks": ""
            },
            "type": "mesh3d"
           }
          ],
          "parcoords": [
           {
            "line": {
             "colorbar": {
              "outlinewidth": 0,
              "ticks": ""
             }
            },
            "type": "parcoords"
           }
          ],
          "pie": [
           {
            "automargin": true,
            "type": "pie"
           }
          ],
          "scatter": [
           {
            "fillpattern": {
             "fillmode": "overlay",
             "size": 10,
             "solidity": 0.2
            },
            "type": "scatter"
           }
          ],
          "scatter3d": [
           {
            "line": {
             "colorbar": {
              "outlinewidth": 0,
              "ticks": ""
             }
            },
            "marker": {
             "colorbar": {
              "outlinewidth": 0,
              "ticks": ""
             }
            },
            "type": "scatter3d"
           }
          ],
          "scattercarpet": [
           {
            "marker": {
             "colorbar": {
              "outlinewidth": 0,
              "ticks": ""
             }
            },
            "type": "scattercarpet"
           }
          ],
          "scattergeo": [
           {
            "marker": {
             "colorbar": {
              "outlinewidth": 0,
              "ticks": ""
             }
            },
            "type": "scattergeo"
           }
          ],
          "scattergl": [
           {
            "marker": {
             "colorbar": {
              "outlinewidth": 0,
              "ticks": ""
             }
            },
            "type": "scattergl"
           }
          ],
          "scattermapbox": [
           {
            "marker": {
             "colorbar": {
              "outlinewidth": 0,
              "ticks": ""
             }
            },
            "type": "scattermapbox"
           }
          ],
          "scatterpolar": [
           {
            "marker": {
             "colorbar": {
              "outlinewidth": 0,
              "ticks": ""
             }
            },
            "type": "scatterpolar"
           }
          ],
          "scatterpolargl": [
           {
            "marker": {
             "colorbar": {
              "outlinewidth": 0,
              "ticks": ""
             }
            },
            "type": "scatterpolargl"
           }
          ],
          "scatterternary": [
           {
            "marker": {
             "colorbar": {
              "outlinewidth": 0,
              "ticks": ""
             }
            },
            "type": "scatterternary"
           }
          ],
          "surface": [
           {
            "colorbar": {
             "outlinewidth": 0,
             "ticks": ""
            },
            "colorscale": [
             [
              0,
              "#0d0887"
             ],
             [
              0.1111111111111111,
              "#46039f"
             ],
             [
              0.2222222222222222,
              "#7201a8"
             ],
             [
              0.3333333333333333,
              "#9c179e"
             ],
             [
              0.4444444444444444,
              "#bd3786"
             ],
             [
              0.5555555555555556,
              "#d8576b"
             ],
             [
              0.6666666666666666,
              "#ed7953"
             ],
             [
              0.7777777777777778,
              "#fb9f3a"
             ],
             [
              0.8888888888888888,
              "#fdca26"
             ],
             [
              1,
              "#f0f921"
             ]
            ],
            "type": "surface"
           }
          ],
          "table": [
           {
            "cells": {
             "fill": {
              "color": "#EBF0F8"
             },
             "line": {
              "color": "white"
             }
            },
            "header": {
             "fill": {
              "color": "#C8D4E3"
             },
             "line": {
              "color": "white"
             }
            },
            "type": "table"
           }
          ]
         },
         "layout": {
          "annotationdefaults": {
           "arrowcolor": "#2a3f5f",
           "arrowhead": 0,
           "arrowwidth": 1
          },
          "autotypenumbers": "strict",
          "coloraxis": {
           "colorbar": {
            "outlinewidth": 0,
            "ticks": ""
           }
          },
          "colorscale": {
           "diverging": [
            [
             0,
             "#8e0152"
            ],
            [
             0.1,
             "#c51b7d"
            ],
            [
             0.2,
             "#de77ae"
            ],
            [
             0.3,
             "#f1b6da"
            ],
            [
             0.4,
             "#fde0ef"
            ],
            [
             0.5,
             "#f7f7f7"
            ],
            [
             0.6,
             "#e6f5d0"
            ],
            [
             0.7,
             "#b8e186"
            ],
            [
             0.8,
             "#7fbc41"
            ],
            [
             0.9,
             "#4d9221"
            ],
            [
             1,
             "#276419"
            ]
           ],
           "sequential": [
            [
             0,
             "#0d0887"
            ],
            [
             0.1111111111111111,
             "#46039f"
            ],
            [
             0.2222222222222222,
             "#7201a8"
            ],
            [
             0.3333333333333333,
             "#9c179e"
            ],
            [
             0.4444444444444444,
             "#bd3786"
            ],
            [
             0.5555555555555556,
             "#d8576b"
            ],
            [
             0.6666666666666666,
             "#ed7953"
            ],
            [
             0.7777777777777778,
             "#fb9f3a"
            ],
            [
             0.8888888888888888,
             "#fdca26"
            ],
            [
             1,
             "#f0f921"
            ]
           ],
           "sequentialminus": [
            [
             0,
             "#0d0887"
            ],
            [
             0.1111111111111111,
             "#46039f"
            ],
            [
             0.2222222222222222,
             "#7201a8"
            ],
            [
             0.3333333333333333,
             "#9c179e"
            ],
            [
             0.4444444444444444,
             "#bd3786"
            ],
            [
             0.5555555555555556,
             "#d8576b"
            ],
            [
             0.6666666666666666,
             "#ed7953"
            ],
            [
             0.7777777777777778,
             "#fb9f3a"
            ],
            [
             0.8888888888888888,
             "#fdca26"
            ],
            [
             1,
             "#f0f921"
            ]
           ]
          },
          "colorway": [
           "#636efa",
           "#EF553B",
           "#00cc96",
           "#ab63fa",
           "#FFA15A",
           "#19d3f3",
           "#FF6692",
           "#B6E880",
           "#FF97FF",
           "#FECB52"
          ],
          "font": {
           "color": "#2a3f5f"
          },
          "geo": {
           "bgcolor": "white",
           "lakecolor": "white",
           "landcolor": "white",
           "showlakes": true,
           "showland": true,
           "subunitcolor": "#C8D4E3"
          },
          "hoverlabel": {
           "align": "left"
          },
          "hovermode": "closest",
          "mapbox": {
           "style": "light"
          },
          "paper_bgcolor": "white",
          "plot_bgcolor": "white",
          "polar": {
           "angularaxis": {
            "gridcolor": "#EBF0F8",
            "linecolor": "#EBF0F8",
            "ticks": ""
           },
           "bgcolor": "white",
           "radialaxis": {
            "gridcolor": "#EBF0F8",
            "linecolor": "#EBF0F8",
            "ticks": ""
           }
          },
          "scene": {
           "xaxis": {
            "backgroundcolor": "white",
            "gridcolor": "#DFE8F3",
            "gridwidth": 2,
            "linecolor": "#EBF0F8",
            "showbackground": true,
            "ticks": "",
            "zerolinecolor": "#EBF0F8"
           },
           "yaxis": {
            "backgroundcolor": "white",
            "gridcolor": "#DFE8F3",
            "gridwidth": 2,
            "linecolor": "#EBF0F8",
            "showbackground": true,
            "ticks": "",
            "zerolinecolor": "#EBF0F8"
           },
           "zaxis": {
            "backgroundcolor": "white",
            "gridcolor": "#DFE8F3",
            "gridwidth": 2,
            "linecolor": "#EBF0F8",
            "showbackground": true,
            "ticks": "",
            "zerolinecolor": "#EBF0F8"
           }
          },
          "shapedefaults": {
           "line": {
            "color": "#2a3f5f"
           }
          },
          "ternary": {
           "aaxis": {
            "gridcolor": "#DFE8F3",
            "linecolor": "#A2B1C6",
            "ticks": ""
           },
           "baxis": {
            "gridcolor": "#DFE8F3",
            "linecolor": "#A2B1C6",
            "ticks": ""
           },
           "bgcolor": "white",
           "caxis": {
            "gridcolor": "#DFE8F3",
            "linecolor": "#A2B1C6",
            "ticks": ""
           }
          },
          "title": {
           "x": 0.05
          },
          "xaxis": {
           "automargin": true,
           "gridcolor": "#EBF0F8",
           "linecolor": "#EBF0F8",
           "ticks": "",
           "title": {
            "standoff": 15
           },
           "zerolinecolor": "#EBF0F8",
           "zerolinewidth": 2
          },
          "yaxis": {
           "automargin": true,
           "gridcolor": "#EBF0F8",
           "linecolor": "#EBF0F8",
           "ticks": "",
           "title": {
            "standoff": 15
           },
           "zerolinecolor": "#EBF0F8",
           "zerolinewidth": 2
          }
         }
        },
        "title": {
         "text": "Sepal Length/Width",
         "x": 0.5
        },
        "xaxis": {
         "linecolor": "black",
         "linewidth": 3,
         "showline": true,
         "showspikes": true,
         "spikecolor": "red",
         "spikethickness": 2,
         "title": {
          "standoff": 10,
          "text": "SepalWidthCm"
         }
        },
        "yaxis": {
         "linecolor": "black",
         "linewidth": 3,
         "showline": true,
         "showspikes": true,
         "spikecolor": "red",
         "spikethickness": 2,
         "title": {
          "standoff": 10,
          "text": "SepalLengthCm"
         }
        }
       }
      }
     },
     "metadata": {},
     "output_type": "display_data"
    }
   ],
   "source": [
    "import plotly.graph_objects as go\n",
    "#adding figure for Length/Width visualization\n",
    "fig1=go.Figure()\n",
    "#adding traces\n",
    "fig1.add_trace(go.Scatter(x=df_raw[df_raw.setosa == 1].sepal_width, y=df_raw[df_raw.setosa == 1].sepal_length, name='Setosa',\n",
    "                        mode='markers', marker_color='rgb(52, 152, 219)',\n",
    "                        marker_symbol='star-triangle-up', marker_opacity=0.8,\n",
    "                        hovertemplate=\"<b>SepalWidthCm:</b> %{x} <br><b>SepalLengthCm:</b> %{y}\"))\n",
    "fig1.add_trace(go.Scatter(x=df_raw[df_raw.setosa != 1].sepal_width, y=df_raw[df_raw.setosa != 1].sepal_length, name='Non-Setosa',\n",
    "                        mode='markers', marker_color='rgb(170, 128, 255)',\n",
    "                        marker_symbol='hexagram', marker_opacity=0.8,\n",
    "                        hovertemplate=\"<b>SepalWidthCm:</b> %{x} <br><b>SepalLengthCm:</b> %{y}\"))\n",
    "\n",
    "#customizing figure\n",
    "fig1.update_traces(mode='markers', marker_line_width=1.5, marker_size=12)\n",
    "fig1.update_layout(template='plotly_white', xaxis=dict(title_text='SepalWidthCm', title_standoff=10),\n",
    "                   yaxis=dict(title_text='SepalLengthCm', title_standoff=10),\n",
    "                   title_text='Sepal Length/Width', title_x=0.5)\n",
    "fig1.update_xaxes(showline=True, linewidth=3, linecolor='black',\n",
    "                  showspikes=True, spikecolor='red', spikethickness=2)\n",
    "fig1.update_yaxes(showline=True, linewidth=3, linecolor='black',\n",
    "                  showspikes=True, spikecolor='red', spikethickness=2)\n",
    "#showing figure\n",
    "fig1.show()"
   ]
  },
  {
   "cell_type": "code",
   "execution_count": null,
   "metadata": {},
   "outputs": [],
   "source": [
    "sepal_length_max: float = 5.3\n",
    "sepal_length_min: float = 3.7\n",
    "sepal_width_max: float = 4.4\n",
    "sepal_width_min: float = 3.1"
   ]
  },
  {
   "cell_type": "code",
   "execution_count": 16,
   "metadata": {},
   "outputs": [
    {
     "data": {
      "application/vnd.plotly.v1+json": {
       "config": {
        "plotlyServerURL": "https://plot.ly"
       },
       "data": [
        {
         "hovertemplate": "variable=setosa<br>index=%{x}<br>value=%{y}<extra></extra>",
         "legendgroup": "setosa",
         "line": {
          "color": "#636efa",
          "dash": "solid"
         },
         "marker": {
          "symbol": "circle"
         },
         "mode": "lines",
         "name": "setosa",
         "orientation": "v",
         "showlegend": true,
         "type": "scatter",
         "x": [
          0,
          1,
          2,
          3,
          4,
          5,
          6,
          7,
          8,
          9,
          10,
          11,
          12,
          13,
          14,
          15,
          16,
          17,
          18,
          19,
          20,
          21,
          22,
          23,
          24,
          25,
          26,
          27,
          28,
          29,
          30,
          31,
          32,
          33,
          34,
          35,
          36,
          37,
          38,
          39,
          40,
          41,
          42,
          43,
          44,
          45,
          46,
          47,
          48,
          49,
          50,
          51,
          52,
          53,
          54,
          55,
          56,
          57,
          58,
          59,
          60,
          61,
          62,
          63,
          64,
          65,
          66,
          67,
          68,
          69,
          70,
          71,
          72,
          73,
          74,
          75,
          76,
          77,
          78,
          79,
          80,
          81,
          82,
          83,
          84,
          85,
          86,
          87,
          88,
          89
         ],
         "xaxis": "x",
         "y": [
          0.665,
          0.467,
          0.326,
          0.5,
          0.502,
          0.5,
          0.5,
          0.679,
          0.5,
          0.386,
          0.5,
          0.629,
          0.395,
          0.679,
          0.328,
          0.387,
          0.46,
          0.535,
          0.5,
          0.685,
          0.395,
          0.386,
          0.5,
          0.665,
          0.5,
          0.629,
          0.535,
          0.665,
          0.5,
          0.535,
          0.582,
          0.582,
          0.5,
          0.686,
          0.31,
          0.386,
          0.686,
          0.582,
          0.501,
          0.385,
          0.465,
          0.31,
          0.5,
          0.679,
          0.502,
          0.535,
          0.629,
          0.582,
          0.405,
          0.5,
          0.568,
          0.535,
          0.5,
          0.665,
          0.465,
          0.629,
          0.629,
          0.48,
          0.385,
          0.323,
          0.665,
          0.582,
          0.591,
          0.327,
          0.386,
          0.5,
          0.335,
          0.686,
          0.551,
          0.5,
          0.535,
          0.535,
          0.679,
          0.535,
          0.389,
          0.665,
          0.386,
          0.46,
          0.5,
          0.551,
          0.661,
          0.52,
          0.5,
          0.465,
          0.69,
          0.502,
          0.5,
          0.351,
          0.502,
          0.629
         ],
         "yaxis": "y"
        },
        {
         "hovertemplate": "variable=non_setosa<br>index=%{x}<br>value=%{y}<extra></extra>",
         "legendgroup": "non_setosa",
         "line": {
          "color": "#EF553B",
          "dash": "solid"
         },
         "marker": {
          "symbol": "circle"
         },
         "mode": "lines",
         "name": "non_setosa",
         "orientation": "v",
         "showlegend": true,
         "type": "scatter",
         "x": [
          0,
          1,
          2,
          3,
          4,
          5,
          6,
          7,
          8,
          9,
          10,
          11,
          12,
          13,
          14,
          15,
          16,
          17,
          18,
          19,
          20,
          21,
          22,
          23,
          24,
          25,
          26,
          27,
          28,
          29,
          30,
          31,
          32,
          33,
          34,
          35,
          36,
          37,
          38,
          39,
          40,
          41,
          42,
          43,
          44,
          45,
          46,
          47,
          48,
          49,
          50,
          51,
          52,
          53,
          54,
          55,
          56,
          57,
          58,
          59,
          60,
          61,
          62,
          63,
          64,
          65,
          66,
          67,
          68,
          69,
          70,
          71,
          72,
          73,
          74,
          75,
          76,
          77,
          78,
          79,
          80,
          81,
          82,
          83,
          84,
          85,
          86,
          87,
          88,
          89
         ],
         "xaxis": "x",
         "y": [
          0.335,
          0.533,
          0.674,
          0.5,
          0.498,
          0.5,
          0.5,
          0.321,
          0.5,
          0.614,
          0.5,
          0.371,
          0.605,
          0.321,
          0.672,
          0.613,
          0.54,
          0.465,
          0.5,
          0.315,
          0.605,
          0.614,
          0.5,
          0.335,
          0.5,
          0.371,
          0.465,
          0.335,
          0.5,
          0.465,
          0.418,
          0.418,
          0.5,
          0.314,
          0.69,
          0.614,
          0.314,
          0.418,
          0.499,
          0.615,
          0.535,
          0.69,
          0.5,
          0.321,
          0.498,
          0.465,
          0.371,
          0.418,
          0.595,
          0.5,
          0.432,
          0.465,
          0.5,
          0.335,
          0.535,
          0.371,
          0.371,
          0.52,
          0.615,
          0.677,
          0.335,
          0.418,
          0.409,
          0.673,
          0.614,
          0.5,
          0.665,
          0.314,
          0.449,
          0.5,
          0.465,
          0.465,
          0.321,
          0.465,
          0.611,
          0.335,
          0.614,
          0.54,
          0.5,
          0.449,
          0.339,
          0.48,
          0.5,
          0.535,
          0.31,
          0.498,
          0.5,
          0.649,
          0.498,
          0.371
         ],
         "yaxis": "y"
        }
       ],
       "layout": {
        "legend": {
         "title": {
          "text": "variable"
         },
         "tracegroupgap": 0
        },
        "margin": {
         "t": 60
        },
        "template": {
         "data": {
          "bar": [
           {
            "error_x": {
             "color": "#2a3f5f"
            },
            "error_y": {
             "color": "#2a3f5f"
            },
            "marker": {
             "line": {
              "color": "#E5ECF6",
              "width": 0.5
             },
             "pattern": {
              "fillmode": "overlay",
              "size": 10,
              "solidity": 0.2
             }
            },
            "type": "bar"
           }
          ],
          "barpolar": [
           {
            "marker": {
             "line": {
              "color": "#E5ECF6",
              "width": 0.5
             },
             "pattern": {
              "fillmode": "overlay",
              "size": 10,
              "solidity": 0.2
             }
            },
            "type": "barpolar"
           }
          ],
          "carpet": [
           {
            "aaxis": {
             "endlinecolor": "#2a3f5f",
             "gridcolor": "white",
             "linecolor": "white",
             "minorgridcolor": "white",
             "startlinecolor": "#2a3f5f"
            },
            "baxis": {
             "endlinecolor": "#2a3f5f",
             "gridcolor": "white",
             "linecolor": "white",
             "minorgridcolor": "white",
             "startlinecolor": "#2a3f5f"
            },
            "type": "carpet"
           }
          ],
          "choropleth": [
           {
            "colorbar": {
             "outlinewidth": 0,
             "ticks": ""
            },
            "type": "choropleth"
           }
          ],
          "contour": [
           {
            "colorbar": {
             "outlinewidth": 0,
             "ticks": ""
            },
            "colorscale": [
             [
              0,
              "#0d0887"
             ],
             [
              0.1111111111111111,
              "#46039f"
             ],
             [
              0.2222222222222222,
              "#7201a8"
             ],
             [
              0.3333333333333333,
              "#9c179e"
             ],
             [
              0.4444444444444444,
              "#bd3786"
             ],
             [
              0.5555555555555556,
              "#d8576b"
             ],
             [
              0.6666666666666666,
              "#ed7953"
             ],
             [
              0.7777777777777778,
              "#fb9f3a"
             ],
             [
              0.8888888888888888,
              "#fdca26"
             ],
             [
              1,
              "#f0f921"
             ]
            ],
            "type": "contour"
           }
          ],
          "contourcarpet": [
           {
            "colorbar": {
             "outlinewidth": 0,
             "ticks": ""
            },
            "type": "contourcarpet"
           }
          ],
          "heatmap": [
           {
            "colorbar": {
             "outlinewidth": 0,
             "ticks": ""
            },
            "colorscale": [
             [
              0,
              "#0d0887"
             ],
             [
              0.1111111111111111,
              "#46039f"
             ],
             [
              0.2222222222222222,
              "#7201a8"
             ],
             [
              0.3333333333333333,
              "#9c179e"
             ],
             [
              0.4444444444444444,
              "#bd3786"
             ],
             [
              0.5555555555555556,
              "#d8576b"
             ],
             [
              0.6666666666666666,
              "#ed7953"
             ],
             [
              0.7777777777777778,
              "#fb9f3a"
             ],
             [
              0.8888888888888888,
              "#fdca26"
             ],
             [
              1,
              "#f0f921"
             ]
            ],
            "type": "heatmap"
           }
          ],
          "heatmapgl": [
           {
            "colorbar": {
             "outlinewidth": 0,
             "ticks": ""
            },
            "colorscale": [
             [
              0,
              "#0d0887"
             ],
             [
              0.1111111111111111,
              "#46039f"
             ],
             [
              0.2222222222222222,
              "#7201a8"
             ],
             [
              0.3333333333333333,
              "#9c179e"
             ],
             [
              0.4444444444444444,
              "#bd3786"
             ],
             [
              0.5555555555555556,
              "#d8576b"
             ],
             [
              0.6666666666666666,
              "#ed7953"
             ],
             [
              0.7777777777777778,
              "#fb9f3a"
             ],
             [
              0.8888888888888888,
              "#fdca26"
             ],
             [
              1,
              "#f0f921"
             ]
            ],
            "type": "heatmapgl"
           }
          ],
          "histogram": [
           {
            "marker": {
             "pattern": {
              "fillmode": "overlay",
              "size": 10,
              "solidity": 0.2
             }
            },
            "type": "histogram"
           }
          ],
          "histogram2d": [
           {
            "colorbar": {
             "outlinewidth": 0,
             "ticks": ""
            },
            "colorscale": [
             [
              0,
              "#0d0887"
             ],
             [
              0.1111111111111111,
              "#46039f"
             ],
             [
              0.2222222222222222,
              "#7201a8"
             ],
             [
              0.3333333333333333,
              "#9c179e"
             ],
             [
              0.4444444444444444,
              "#bd3786"
             ],
             [
              0.5555555555555556,
              "#d8576b"
             ],
             [
              0.6666666666666666,
              "#ed7953"
             ],
             [
              0.7777777777777778,
              "#fb9f3a"
             ],
             [
              0.8888888888888888,
              "#fdca26"
             ],
             [
              1,
              "#f0f921"
             ]
            ],
            "type": "histogram2d"
           }
          ],
          "histogram2dcontour": [
           {
            "colorbar": {
             "outlinewidth": 0,
             "ticks": ""
            },
            "colorscale": [
             [
              0,
              "#0d0887"
             ],
             [
              0.1111111111111111,
              "#46039f"
             ],
             [
              0.2222222222222222,
              "#7201a8"
             ],
             [
              0.3333333333333333,
              "#9c179e"
             ],
             [
              0.4444444444444444,
              "#bd3786"
             ],
             [
              0.5555555555555556,
              "#d8576b"
             ],
             [
              0.6666666666666666,
              "#ed7953"
             ],
             [
              0.7777777777777778,
              "#fb9f3a"
             ],
             [
              0.8888888888888888,
              "#fdca26"
             ],
             [
              1,
              "#f0f921"
             ]
            ],
            "type": "histogram2dcontour"
           }
          ],
          "mesh3d": [
           {
            "colorbar": {
             "outlinewidth": 0,
             "ticks": ""
            },
            "type": "mesh3d"
           }
          ],
          "parcoords": [
           {
            "line": {
             "colorbar": {
              "outlinewidth": 0,
              "ticks": ""
             }
            },
            "type": "parcoords"
           }
          ],
          "pie": [
           {
            "automargin": true,
            "type": "pie"
           }
          ],
          "scatter": [
           {
            "fillpattern": {
             "fillmode": "overlay",
             "size": 10,
             "solidity": 0.2
            },
            "type": "scatter"
           }
          ],
          "scatter3d": [
           {
            "line": {
             "colorbar": {
              "outlinewidth": 0,
              "ticks": ""
             }
            },
            "marker": {
             "colorbar": {
              "outlinewidth": 0,
              "ticks": ""
             }
            },
            "type": "scatter3d"
           }
          ],
          "scattercarpet": [
           {
            "marker": {
             "colorbar": {
              "outlinewidth": 0,
              "ticks": ""
             }
            },
            "type": "scattercarpet"
           }
          ],
          "scattergeo": [
           {
            "marker": {
             "colorbar": {
              "outlinewidth": 0,
              "ticks": ""
             }
            },
            "type": "scattergeo"
           }
          ],
          "scattergl": [
           {
            "marker": {
             "colorbar": {
              "outlinewidth": 0,
              "ticks": ""
             }
            },
            "type": "scattergl"
           }
          ],
          "scattermapbox": [
           {
            "marker": {
             "colorbar": {
              "outlinewidth": 0,
              "ticks": ""
             }
            },
            "type": "scattermapbox"
           }
          ],
          "scatterpolar": [
           {
            "marker": {
             "colorbar": {
              "outlinewidth": 0,
              "ticks": ""
             }
            },
            "type": "scatterpolar"
           }
          ],
          "scatterpolargl": [
           {
            "marker": {
             "colorbar": {
              "outlinewidth": 0,
              "ticks": ""
             }
            },
            "type": "scatterpolargl"
           }
          ],
          "scatterternary": [
           {
            "marker": {
             "colorbar": {
              "outlinewidth": 0,
              "ticks": ""
             }
            },
            "type": "scatterternary"
           }
          ],
          "surface": [
           {
            "colorbar": {
             "outlinewidth": 0,
             "ticks": ""
            },
            "colorscale": [
             [
              0,
              "#0d0887"
             ],
             [
              0.1111111111111111,
              "#46039f"
             ],
             [
              0.2222222222222222,
              "#7201a8"
             ],
             [
              0.3333333333333333,
              "#9c179e"
             ],
             [
              0.4444444444444444,
              "#bd3786"
             ],
             [
              0.5555555555555556,
              "#d8576b"
             ],
             [
              0.6666666666666666,
              "#ed7953"
             ],
             [
              0.7777777777777778,
              "#fb9f3a"
             ],
             [
              0.8888888888888888,
              "#fdca26"
             ],
             [
              1,
              "#f0f921"
             ]
            ],
            "type": "surface"
           }
          ],
          "table": [
           {
            "cells": {
             "fill": {
              "color": "#EBF0F8"
             },
             "line": {
              "color": "white"
             }
            },
            "header": {
             "fill": {
              "color": "#C8D4E3"
             },
             "line": {
              "color": "white"
             }
            },
            "type": "table"
           }
          ]
         },
         "layout": {
          "annotationdefaults": {
           "arrowcolor": "#2a3f5f",
           "arrowhead": 0,
           "arrowwidth": 1
          },
          "autotypenumbers": "strict",
          "coloraxis": {
           "colorbar": {
            "outlinewidth": 0,
            "ticks": ""
           }
          },
          "colorscale": {
           "diverging": [
            [
             0,
             "#8e0152"
            ],
            [
             0.1,
             "#c51b7d"
            ],
            [
             0.2,
             "#de77ae"
            ],
            [
             0.3,
             "#f1b6da"
            ],
            [
             0.4,
             "#fde0ef"
            ],
            [
             0.5,
             "#f7f7f7"
            ],
            [
             0.6,
             "#e6f5d0"
            ],
            [
             0.7,
             "#b8e186"
            ],
            [
             0.8,
             "#7fbc41"
            ],
            [
             0.9,
             "#4d9221"
            ],
            [
             1,
             "#276419"
            ]
           ],
           "sequential": [
            [
             0,
             "#0d0887"
            ],
            [
             0.1111111111111111,
             "#46039f"
            ],
            [
             0.2222222222222222,
             "#7201a8"
            ],
            [
             0.3333333333333333,
             "#9c179e"
            ],
            [
             0.4444444444444444,
             "#bd3786"
            ],
            [
             0.5555555555555556,
             "#d8576b"
            ],
            [
             0.6666666666666666,
             "#ed7953"
            ],
            [
             0.7777777777777778,
             "#fb9f3a"
            ],
            [
             0.8888888888888888,
             "#fdca26"
            ],
            [
             1,
             "#f0f921"
            ]
           ],
           "sequentialminus": [
            [
             0,
             "#0d0887"
            ],
            [
             0.1111111111111111,
             "#46039f"
            ],
            [
             0.2222222222222222,
             "#7201a8"
            ],
            [
             0.3333333333333333,
             "#9c179e"
            ],
            [
             0.4444444444444444,
             "#bd3786"
            ],
            [
             0.5555555555555556,
             "#d8576b"
            ],
            [
             0.6666666666666666,
             "#ed7953"
            ],
            [
             0.7777777777777778,
             "#fb9f3a"
            ],
            [
             0.8888888888888888,
             "#fdca26"
            ],
            [
             1,
             "#f0f921"
            ]
           ]
          },
          "colorway": [
           "#636efa",
           "#EF553B",
           "#00cc96",
           "#ab63fa",
           "#FFA15A",
           "#19d3f3",
           "#FF6692",
           "#B6E880",
           "#FF97FF",
           "#FECB52"
          ],
          "font": {
           "color": "#2a3f5f"
          },
          "geo": {
           "bgcolor": "white",
           "lakecolor": "white",
           "landcolor": "#E5ECF6",
           "showlakes": true,
           "showland": true,
           "subunitcolor": "white"
          },
          "hoverlabel": {
           "align": "left"
          },
          "hovermode": "closest",
          "mapbox": {
           "style": "light"
          },
          "paper_bgcolor": "white",
          "plot_bgcolor": "#E5ECF6",
          "polar": {
           "angularaxis": {
            "gridcolor": "white",
            "linecolor": "white",
            "ticks": ""
           },
           "bgcolor": "#E5ECF6",
           "radialaxis": {
            "gridcolor": "white",
            "linecolor": "white",
            "ticks": ""
           }
          },
          "scene": {
           "xaxis": {
            "backgroundcolor": "#E5ECF6",
            "gridcolor": "white",
            "gridwidth": 2,
            "linecolor": "white",
            "showbackground": true,
            "ticks": "",
            "zerolinecolor": "white"
           },
           "yaxis": {
            "backgroundcolor": "#E5ECF6",
            "gridcolor": "white",
            "gridwidth": 2,
            "linecolor": "white",
            "showbackground": true,
            "ticks": "",
            "zerolinecolor": "white"
           },
           "zaxis": {
            "backgroundcolor": "#E5ECF6",
            "gridcolor": "white",
            "gridwidth": 2,
            "linecolor": "white",
            "showbackground": true,
            "ticks": "",
            "zerolinecolor": "white"
           }
          },
          "shapedefaults": {
           "line": {
            "color": "#2a3f5f"
           }
          },
          "ternary": {
           "aaxis": {
            "gridcolor": "white",
            "linecolor": "white",
            "ticks": ""
           },
           "baxis": {
            "gridcolor": "white",
            "linecolor": "white",
            "ticks": ""
           },
           "bgcolor": "#E5ECF6",
           "caxis": {
            "gridcolor": "white",
            "linecolor": "white",
            "ticks": ""
           }
          },
          "title": {
           "x": 0.05
          },
          "xaxis": {
           "automargin": true,
           "gridcolor": "white",
           "linecolor": "white",
           "ticks": "",
           "title": {
            "standoff": 15
           },
           "zerolinecolor": "white",
           "zerolinewidth": 2
          },
          "yaxis": {
           "automargin": true,
           "gridcolor": "white",
           "linecolor": "white",
           "ticks": "",
           "title": {
            "standoff": 15
           },
           "zerolinecolor": "white",
           "zerolinewidth": 2
          }
         }
        },
        "xaxis": {
         "anchor": "y",
         "domain": [
          0,
          1
         ],
         "title": {
          "text": "index"
         }
        },
        "yaxis": {
         "anchor": "x",
         "domain": [
          0,
          1
         ],
         "title": {
          "text": "value"
         }
        }
       }
      }
     },
     "metadata": {},
     "output_type": "display_data"
    }
   ],
   "source": [
    "# Using plotly.express\n",
    "import plotly.express as px\n",
    "\n",
    "fig = px.line(teacher_pred)\n",
    "fig.show()"
   ]
  },
  {
   "cell_type": "code",
   "execution_count": 17,
   "metadata": {},
   "outputs": [
    {
     "data": {
      "text/html": [
       "<div>\n",
       "<style scoped>\n",
       "    .dataframe tbody tr th:only-of-type {\n",
       "        vertical-align: middle;\n",
       "    }\n",
       "\n",
       "    .dataframe tbody tr th {\n",
       "        vertical-align: top;\n",
       "    }\n",
       "\n",
       "    .dataframe thead th {\n",
       "        text-align: right;\n",
       "    }\n",
       "</style>\n",
       "<table border=\"1\" class=\"dataframe\">\n",
       "  <thead>\n",
       "    <tr style=\"text-align: right;\">\n",
       "      <th></th>\n",
       "      <th>setosa</th>\n",
       "      <th>non_setosa</th>\n",
       "    </tr>\n",
       "  </thead>\n",
       "  <tbody>\n",
       "    <tr>\n",
       "      <th>0</th>\n",
       "      <td>0.665</td>\n",
       "      <td>0.335</td>\n",
       "    </tr>\n",
       "    <tr>\n",
       "      <th>1</th>\n",
       "      <td>0.467</td>\n",
       "      <td>0.533</td>\n",
       "    </tr>\n",
       "    <tr>\n",
       "      <th>2</th>\n",
       "      <td>0.326</td>\n",
       "      <td>0.674</td>\n",
       "    </tr>\n",
       "    <tr>\n",
       "      <th>3</th>\n",
       "      <td>0.500</td>\n",
       "      <td>0.500</td>\n",
       "    </tr>\n",
       "    <tr>\n",
       "      <th>4</th>\n",
       "      <td>0.502</td>\n",
       "      <td>0.498</td>\n",
       "    </tr>\n",
       "  </tbody>\n",
       "</table>\n",
       "</div>"
      ],
      "text/plain": [
       "   setosa  non_setosa\n",
       "0   0.665       0.335\n",
       "1   0.467       0.533\n",
       "2   0.326       0.674\n",
       "3   0.500       0.500\n",
       "4   0.502       0.498"
      ]
     },
     "execution_count": 17,
     "metadata": {},
     "output_type": "execute_result"
    }
   ],
   "source": [
    "teacher_pred.head()"
   ]
  },
  {
   "cell_type": "code",
   "execution_count": 18,
   "metadata": {},
   "outputs": [
    {
     "data": {
      "text/plain": [
       "0.8777777777777778"
      ]
     },
     "execution_count": 18,
     "metadata": {},
     "output_type": "execute_result"
    }
   ],
   "source": [
    "from sklearn import metrics\n",
    "output = list(map(lambda x: 1 if x > 0.6 else 0, teacher_pred['setosa']))\n",
    "# temp = teacher.predict(data['training_data'])['predictions']\n",
    "metrics.accuracy_score(output, data['labeled_data']['y_train'])"
   ]
  },
  {
   "cell_type": "code",
   "execution_count": 19,
   "metadata": {},
   "outputs": [
    {
     "data": {
      "text/plain": [
       "0.8111111111111111"
      ]
     },
     "execution_count": 19,
     "metadata": {},
     "output_type": "execute_result"
    }
   ],
   "source": [
    "from sklearn import metrics\n",
    "output = list(map(lambda x: 1 if x > 0.49 else 0, teacher_pred['non_setosa']))\n",
    "# temp = teacher.predict(data['training_data'])['predictions']\n",
    "y_true = data['labeled_data']['y_train'].apply(lambda x: x ^ 1).rename('non_setosa')\n",
    "metrics.accuracy_score(output, y_true)"
   ]
  },
  {
   "cell_type": "code",
   "execution_count": 20,
   "metadata": {},
   "outputs": [],
   "source": [
    "rule_model = RuleModel()"
   ]
  },
  {
   "cell_type": "code",
   "execution_count": 21,
   "metadata": {},
   "outputs": [
    {
     "data": {
      "text/plain": [
       "0.9"
      ]
     },
     "execution_count": 21,
     "metadata": {},
     "output_type": "execute_result"
    }
   ],
   "source": [
    "temp = rule_model.predict({'x': data['labeled_data']['x_train']})['predictions']\n",
    "metrics.accuracy_score(temp, data['labeled_data']['y_train'])"
   ]
  },
  {
   "cell_type": "code",
   "execution_count": 22,
   "metadata": {},
   "outputs": [],
   "source": [
    "data['labeled_data']['y_train'] = pd.concat(\n",
    "    [data['labeled_data']['y_train'].rename('setosa'), \n",
    "    data['labeled_data']['y_train'].apply(lambda x: x ^ 1).rename('non_setosa')], \n",
    "    axis=1\n",
    ")"
   ]
  },
  {
   "cell_type": "code",
   "execution_count": 23,
   "metadata": {},
   "outputs": [],
   "source": [
    "data['labeled_data']['y_test'] = pd.concat(\n",
    "    [data['labeled_data']['y_test'].rename('setosa'), \n",
    "    data['labeled_data']['y_test'].apply(lambda x: x ^ 1).rename('non_setosa')], \n",
    "    axis=1\n",
    ")"
   ]
  },
  {
   "cell_type": "code",
   "execution_count": 24,
   "metadata": {},
   "outputs": [],
   "source": [
    "from h1st.model.oracle import OracleModeler\n",
    "modeler = OracleModeler()"
   ]
  },
  {
   "cell_type": "code",
   "execution_count": 25,
   "metadata": {},
   "outputs": [],
   "source": []
  },
  {
   "cell_type": "code",
   "execution_count": 26,
   "metadata": {},
   "outputs": [
    {
     "name": "stderr",
     "output_type": "stream",
     "text": [
      "INFO:root:Evaluated all sub models successfully.\n"
     ]
    }
   ],
   "source": [
    "fuzzy_thresholds = {'setosa': 0.6, 'non_setosa': 0.49}\n",
    "\n",
    "oracle = modeler.build_model(\n",
    "    data=data, \n",
    "    teacher=teacher,\n",
    "    fuzzy_thresholds=fuzzy_thresholds)"
   ]
  },
  {
   "cell_type": "code",
   "execution_count": null,
   "metadata": {},
   "outputs": [],
   "source": []
  },
  {
   "cell_type": "code",
   "execution_count": 27,
   "metadata": {},
   "outputs": [],
   "source": [
    "fuzzy_thresholds = {'setosa': 0.6, 'non_setosa': 0.49}\n",
    "\n",
    "oracle = modeler.build_model(\n",
    "    data={'unlabeled_data': data['unlabeled_data']}, \n",
    "    teacher=teacher,\n",
    "    fuzzy_thresholds=fuzzy_thresholds)"
   ]
  },
  {
   "cell_type": "code",
   "execution_count": 28,
   "metadata": {},
   "outputs": [],
   "source": [
    "test_data = {'x': data['labeled_data']['x_test']}\n",
    "prediction = oracle.predict(test_data)"
   ]
  },
  {
   "cell_type": "code",
   "execution_count": 29,
   "metadata": {},
   "outputs": [
    {
     "data": {
      "text/plain": [
       "{}"
      ]
     },
     "execution_count": 29,
     "metadata": {},
     "output_type": "execute_result"
    }
   ],
   "source": [
    "oracle.metrics"
   ]
  },
  {
   "cell_type": "code",
   "execution_count": 30,
   "metadata": {},
   "outputs": [
    {
     "name": "stderr",
     "output_type": "stream",
     "text": [
      "INFO:root:Evaluated all sub models successfully.\n"
     ]
    }
   ],
   "source": [
    "oracle2 = modeler.build_model(\n",
    "    data=data, \n",
    "    teacher=rule_model)\n",
    "\n",
    "test_data = {'x': data['labeled_data']['x_test']}\n",
    "prediction = oracle2.predict(test_data)"
   ]
  },
  {
   "cell_type": "code",
   "execution_count": 31,
   "metadata": {},
   "outputs": [
    {
     "data": {
      "text/plain": [
       "{'accuracy': {'setosa': {'teacher': 0.86667,\n",
       "   'students': [0.86667, 0.91667],\n",
       "   'ensemblers': 0.86667}},\n",
       " 'precision': {'setosa': {'teacher': 0.72,\n",
       "   'students': [0.72, 0.79167],\n",
       "   'ensemblers': 0.72}},\n",
       " 'recall': {'setosa': {'teacher': 0.94737,\n",
       "   'students': [0.94737, 1.0],\n",
       "   'ensemblers': 0.94737}}}"
      ]
     },
     "execution_count": 31,
     "metadata": {},
     "output_type": "execute_result"
    }
   ],
   "source": [
    "oracle2.metrics"
   ]
  },
  {
   "cell_type": "code",
   "execution_count": 32,
   "metadata": {},
   "outputs": [],
   "source": [
    "from h1st.model.oracle.ensemble import GradBoostEnsembleModeler"
   ]
  },
  {
   "cell_type": "code",
   "execution_count": 33,
   "metadata": {},
   "outputs": [
    {
     "name": "stderr",
     "output_type": "stream",
     "text": [
      "INFO:root:Evaluated all sub models successfully.\n"
     ]
    }
   ],
   "source": [
    "oracle3 = modeler.build_model(\n",
    "    data=data, \n",
    "    teacher=rule_model,\n",
    "    ensembler_modeler=GradBoostEnsembleModeler())\n",
    "\n",
    "test_data = {'x': data['labeled_data']['x_test']}\n",
    "prediction = oracle3.predict(test_data)"
   ]
  },
  {
   "cell_type": "code",
   "execution_count": 34,
   "metadata": {},
   "outputs": [
    {
     "data": {
      "text/plain": [
       "{'setosa': <h1st.model.oracle.ensemble.GradBoostEnsemble at 0x7fc079c17850>}"
      ]
     },
     "execution_count": 34,
     "metadata": {},
     "output_type": "execute_result"
    }
   ],
   "source": [
    "oracle3.ensemblers"
   ]
  },
  {
   "cell_type": "code",
   "execution_count": 35,
   "metadata": {},
   "outputs": [
    {
     "data": {
      "text/plain": [
       "{'accuracy': {'setosa': {'teacher': 0.86667,\n",
       "   'students': [0.86667, 0.91667],\n",
       "   'ensemblers': 0.98333}},\n",
       " 'precision': {'setosa': {'teacher': 0.72,\n",
       "   'students': [0.72, 0.79167],\n",
       "   'ensemblers': 1.0}},\n",
       " 'recall': {'setosa': {'teacher': 0.94737,\n",
       "   'students': [0.94737, 1.0],\n",
       "   'ensemblers': 0.94737}}}"
      ]
     },
     "execution_count": 35,
     "metadata": {},
     "output_type": "execute_result"
    }
   ],
   "source": [
    "oracle3.metrics"
   ]
  },
  {
   "cell_type": "code",
   "execution_count": 36,
   "metadata": {},
   "outputs": [
    {
     "name": "stderr",
     "output_type": "stream",
     "text": [
      "INFO:root:Evaluated all sub models successfully.\n"
     ]
    }
   ],
   "source": [
    "fuzzy_thresholds = {'setosa': 0.6, 'non_setosa': 0.49}\n",
    "oracle4 = modeler.build_model(\n",
    "    data=data, \n",
    "    teacher=teacher,\n",
    "    fuzzy_thresholds=fuzzy_thresholds,\n",
    "    ensembler_modeler=GradBoostEnsembleModeler())\n",
    "\n",
    "test_data = {'x': data['labeled_data']['x_test']}\n",
    "prediction = oracle4.predict(test_data)"
   ]
  },
  {
   "cell_type": "code",
   "execution_count": 37,
   "metadata": {},
   "outputs": [
    {
     "data": {
      "text/plain": [
       "{'accuracy': {'setosa': {'teacher': 0.83333,\n",
       "   'students': [0.9, 0.93333],\n",
       "   'ensemblers': 0.95},\n",
       "  'non_setosa': {'teacher': 0.81667,\n",
       "   'students': [0.83333, 0.95],\n",
       "   'ensemblers': 1.0}},\n",
       " 'precision': {'setosa': {'teacher': 0.73684,\n",
       "   'students': [0.88235, 0.94118],\n",
       "   'ensemblers': 0.94444},\n",
       "  'non_setosa': {'teacher': 0.91667,\n",
       "   'students': [0.94286, 1.0],\n",
       "   'ensemblers': 1.0}},\n",
       " 'recall': {'setosa': {'teacher': 0.73684,\n",
       "   'students': [0.78947, 0.84211],\n",
       "   'ensemblers': 0.89474},\n",
       "  'non_setosa': {'teacher': 0.80488,\n",
       "   'students': [0.80488, 0.92683],\n",
       "   'ensemblers': 1.0}}}"
      ]
     },
     "execution_count": 37,
     "metadata": {},
     "output_type": "execute_result"
    }
   ],
   "source": [
    "oracle4.metrics"
   ]
  },
  {
   "cell_type": "code",
   "execution_count": 38,
   "metadata": {},
   "outputs": [
    {
     "data": {
      "text/plain": [
       "{'predictions': {'setosa': array([0, 1, 1, 0, 0, 0, 0, 0, 1, 0, 0, 0, 0, 0, 1, 0, 0, 0, 1, 1, 0, 0,\n",
       "         0, 0, 0, 0, 0, 0, 0, 0, 0, 0, 1, 0, 0, 1, 1, 1, 1, 0, 0, 0, 0, 0,\n",
       "         0, 1, 0, 0, 0, 1, 1, 1, 0, 1, 0, 0, 0, 0, 1, 1]),\n",
       "  'non_setosa': array([1, 1, 0, 1, 1, 0, 1, 1, 0, 1, 1, 1, 0, 1, 0, 1, 1, 1, 0, 0, 1, 1,\n",
       "         1, 1, 1, 1, 1, 1, 1, 1, 1, 1, 0, 1, 1, 0, 0, 0, 0, 1, 1, 1, 1, 1,\n",
       "         1, 0, 1, 1, 1, 0, 0, 0, 1, 0, 1, 1, 1, 1, 0, 0])}}"
      ]
     },
     "execution_count": 38,
     "metadata": {},
     "output_type": "execute_result"
    }
   ],
   "source": [
    "prediction"
   ]
  },
  {
   "cell_type": "code",
   "execution_count": 39,
   "metadata": {},
   "outputs": [],
   "source": [
    "import os\n",
    "path = '/Users/aitomatic/src/github/h1st-ai/h1st/user/example-models/oracle/model_repo'\n",
    "os.environ['H1ST_MODEL_REPO_PATH'] = path"
   ]
  },
  {
   "cell_type": "code",
   "execution_count": 40,
   "metadata": {},
   "outputs": [
    {
     "name": "stderr",
     "output_type": "stream",
     "text": [
      "INFO:h1st.model.repository.model_repository:Saving stats property...\n",
      "INFO:h1st.model.repository.model_repository:Saving model property...\n",
      "INFO:h1st.model.repository.model_repository:Saving stats property...\n",
      "INFO:h1st.model.repository.model_repository:Saving model property...\n",
      "INFO:h1st.model.repository.model_repository:Saving metrics property...\n",
      "INFO:h1st.model.repository.model_repository:Saving stats property...\n",
      "INFO:h1st.model.repository.model_repository:Saving model property...\n",
      "INFO:h1st.model.repository.model_repository:Saving stats property...\n",
      "INFO:h1st.model.repository.model_repository:Saving model property...\n",
      "INFO:h1st.model.repository.model_repository:Saving stats property...\n",
      "INFO:h1st.model.repository.model_repository:Saving model property...\n",
      "INFO:h1st.model.repository.model_repository:Saving metrics property...\n",
      "INFO:h1st.model.repository.model_repository:Saving stats property...\n",
      "INFO:h1st.model.repository.model_repository:Saving model property...\n",
      "INFO:h1st.model.repository.model_repository:Saving rule_details property...\n",
      "INFO:h1st.model.repository.model_repository:Saving rule_engine property...\n",
      "WARNING:root:This rule engine is custom, so may not work well with joblib which is the python package that we use to persist rules.\n",
      "INFO:h1st.model.repository.model_repository:Saving metrics property...\n",
      "INFO:h1st.model.repository.model_repository:Saving stats property...\n"
     ]
    },
    {
     "data": {
      "text/plain": [
       "'test_ml_ensemble_oracle'"
      ]
     },
     "execution_count": 40,
     "metadata": {},
     "output_type": "execute_result"
    }
   ],
   "source": [
    "oracle4.persist('test_ml_ensemble_oracle')"
   ]
  },
  {
   "cell_type": "code",
   "execution_count": 41,
   "metadata": {},
   "outputs": [
    {
     "data": {
      "text/plain": [
       "{'fuzzy_thresholds': {'setosa': 0.6, 'non_setosa': 0.49},\n",
       " 'features': None,\n",
       " 'inject_x_in_ensembler': False,\n",
       " 'labels': ['setosa', 'non_setosa'],\n",
       " 'model_details': {'teacher_details': {'class': h1st.model.fuzzy.fuzzy_model.FuzzyModel,\n",
       "   'version': 'teacher_test_ml_ensemble_oracle'},\n",
       "  'student_details': {'setosa': {'class': [h1st.model.oracle.student.RandomForestModel,\n",
       "     h1st.model.oracle.student.LogisticRegressionModel],\n",
       "    'version': ['student_test_ml_ensemble_oracle_setosa_0',\n",
       "     'student_test_ml_ensemble_oracle_setosa_1']},\n",
       "   'non_setosa': {'class': [h1st.model.oracle.student.RandomForestModel,\n",
       "     h1st.model.oracle.student.LogisticRegressionModel],\n",
       "    'version': ['student_test_ml_ensemble_oracle_non_setosa_0',\n",
       "     'student_test_ml_ensemble_oracle_non_setosa_1']}},\n",
       "  'ensembler_details': {'setosa': {'class': h1st.model.oracle.ensemble.GradBoostEnsemble,\n",
       "    'version': 'ensembler_test_ml_ensemble_oracle_setosa'},\n",
       "   'non_setosa': {'class': h1st.model.oracle.ensemble.GradBoostEnsemble,\n",
       "    'version': 'ensembler_test_ml_ensemble_oracle_non_setosa'}}}}"
      ]
     },
     "execution_count": 41,
     "metadata": {},
     "output_type": "execute_result"
    }
   ],
   "source": [
    "oracle4.stats"
   ]
  },
  {
   "cell_type": "code",
   "execution_count": 42,
   "metadata": {},
   "outputs": [],
   "source": [
    "oracle4 = None"
   ]
  },
  {
   "cell_type": "code",
   "execution_count": 43,
   "metadata": {},
   "outputs": [
    {
     "name": "stderr",
     "output_type": "stream",
     "text": [
      "INFO:h1st.model.repository.model_repository:Loading version test_ml_ensemble_oracle ....\n",
      "INFO:h1st.model.repository.model_repository:Loading version teacher_test_ml_ensemble_oracle ....\n",
      "INFO:h1st.model.repository.model_repository:Loading version ensembler_test_ml_ensemble_oracle_setosa ....\n",
      "INFO:h1st.model.repository.model_repository:Loading version student_test_ml_ensemble_oracle_setosa_0 ....\n",
      "INFO:h1st.model.repository.model_repository:Loading version student_test_ml_ensemble_oracle_setosa_1 ....\n",
      "INFO:h1st.model.repository.model_repository:Loading version ensembler_test_ml_ensemble_oracle_non_setosa ....\n",
      "INFO:h1st.model.repository.model_repository:Loading version student_test_ml_ensemble_oracle_non_setosa_0 ....\n",
      "INFO:h1st.model.repository.model_repository:Loading version student_test_ml_ensemble_oracle_non_setosa_1 ....\n"
     ]
    },
    {
     "data": {
      "text/plain": [
       "<h1st.model.oracle.oracle.Oracle at 0x7fc079c33fa0>"
      ]
     },
     "execution_count": 43,
     "metadata": {},
     "output_type": "execute_result"
    }
   ],
   "source": [
    "from h1st.model.oracle import Oracle\n",
    "oracle4 = Oracle()\n",
    "oracle4.load('test_ml_ensemble_oracle')"
   ]
  },
  {
   "cell_type": "code",
   "execution_count": 44,
   "metadata": {},
   "outputs": [
    {
     "data": {
      "text/plain": [
       "{'teacher_details': {'class': h1st.model.fuzzy.fuzzy_model.FuzzyModel,\n",
       "  'version': 'teacher_test_ml_ensemble_oracle'},\n",
       " 'student_details': {'setosa': {'class': [h1st.model.oracle.student.RandomForestModel,\n",
       "    h1st.model.oracle.student.LogisticRegressionModel],\n",
       "   'version': ['student_test_ml_ensemble_oracle_setosa_0',\n",
       "    'student_test_ml_ensemble_oracle_setosa_1']},\n",
       "  'non_setosa': {'class': [h1st.model.oracle.student.RandomForestModel,\n",
       "    h1st.model.oracle.student.LogisticRegressionModel],\n",
       "   'version': ['student_test_ml_ensemble_oracle_non_setosa_0',\n",
       "    'student_test_ml_ensemble_oracle_non_setosa_1']}},\n",
       " 'ensembler_details': {'setosa': {'class': h1st.model.oracle.ensemble.GradBoostEnsemble,\n",
       "   'version': 'ensembler_test_ml_ensemble_oracle_setosa'},\n",
       "  'non_setosa': {'class': h1st.model.oracle.ensemble.GradBoostEnsemble,\n",
       "   'version': 'ensembler_test_ml_ensemble_oracle_non_setosa'}}}"
      ]
     },
     "execution_count": 44,
     "metadata": {},
     "output_type": "execute_result"
    }
   ],
   "source": [
    "oracle4.stats['model_details']"
   ]
  },
  {
   "cell_type": "code",
   "execution_count": 45,
   "metadata": {},
   "outputs": [
    {
     "data": {
      "text/plain": [
       "defaultdict(list,\n",
       "            {'setosa': [<h1st.model.oracle.student.RandomForestModel at 0x7fc0a1344640>,\n",
       "              <h1st.model.oracle.student.LogisticRegressionModel at 0x7fc079c7c250>],\n",
       "             'non_setosa': [<h1st.model.oracle.student.RandomForestModel at 0x7fc0714531f0>,\n",
       "              <h1st.model.oracle.student.LogisticRegressionModel at 0x7fc079c14190>]})"
      ]
     },
     "execution_count": 45,
     "metadata": {},
     "output_type": "execute_result"
    }
   ],
   "source": [
    "oracle4.students"
   ]
  },
  {
   "cell_type": "code",
   "execution_count": 46,
   "metadata": {},
   "outputs": [],
   "source": [
    "test_data = {'x': data['labeled_data']['x_train']}\n",
    "prediction_from_loaded = oracle4.predict(test_data)"
   ]
  },
  {
   "cell_type": "code",
   "execution_count": 47,
   "metadata": {},
   "outputs": [
    {
     "data": {
      "text/plain": [
       "{'predictions': {'setosa': array([1, 0, 0, 0, 0, 1, 0, 1, 1, 0, 0, 1, 0, 1, 0, 0, 0, 1, 0, 1, 0, 0,\n",
       "         0, 1, 1, 0, 0, 1, 0, 0, 0, 1, 0, 1, 0, 0, 1, 1, 0, 0, 0, 0, 0, 1,\n",
       "         1, 0, 1, 1, 0, 0, 0, 0, 0, 1, 0, 1, 1, 0, 0, 0, 1, 0, 0, 0, 0, 0,\n",
       "         0, 1, 0, 0, 1, 1, 1, 0, 0, 1, 0, 0, 0, 0, 1, 0, 0, 0, 1, 0, 0, 0,\n",
       "         0, 1]),\n",
       "  'non_setosa': array([0, 1, 1, 1, 1, 0, 1, 0, 0, 1, 1, 0, 1, 0, 1, 1, 1, 0, 1, 0, 1, 1,\n",
       "         1, 0, 0, 1, 1, 0, 1, 1, 1, 0, 1, 0, 1, 1, 0, 0, 1, 1, 1, 1, 1, 0,\n",
       "         0, 1, 0, 0, 1, 1, 1, 1, 1, 0, 1, 0, 0, 1, 1, 1, 0, 1, 1, 1, 1, 1,\n",
       "         1, 0, 1, 1, 0, 0, 0, 1, 1, 0, 1, 1, 1, 1, 0, 1, 1, 1, 0, 1, 1, 1,\n",
       "         1, 0])}}"
      ]
     },
     "execution_count": 47,
     "metadata": {},
     "output_type": "execute_result"
    }
   ],
   "source": [
    "prediction_from_loaded"
   ]
  },
  {
   "cell_type": "markdown",
   "metadata": {},
   "source": [
    "## Evaluation of Oracle with Azure IoT dataset"
   ]
  },
  {
   "cell_type": "code",
   "execution_count": 48,
   "metadata": {},
   "outputs": [],
   "source": [
    "import pandas as pd "
   ]
  },
  {
   "cell_type": "code",
   "execution_count": 49,
   "metadata": {},
   "outputs": [],
   "source": [
    "# you can download the data from kaggle using the following link.\n",
    "# https://www.kaggle.com/datasets/arnabbiswas1/microsoft-azure-predictive-maintenance\n",
    "\n",
    "dir_path = '/Users/aitomatic/Desktop/dataset/azure_iot'\n",
    "path = f'{dir_path}/'\n",
    "telemetry_url = 'PdM_telemetry.csv'\n",
    "df = pd.read_csv(path + 'PdM_telemetry.csv')\n",
    "df.loc[:, 'datetime'] = pd.to_datetime(df['datetime'])\n",
    "df.loc[:, 'datetime'] = df['datetime'] - pd.Timedelta(hours=6)\n",
    "df_machines = pd.read_csv(path + 'PdM_machines.csv')\n",
    "df = df.join(df_machines.set_index('machineID'), on='machineID')\n",
    "df.loc[:, 'date'] = df['datetime'].dt.date"
   ]
  },
  {
   "cell_type": "code",
   "execution_count": 50,
   "metadata": {},
   "outputs": [
    {
     "data": {
      "text/plain": [
       "model3    306635\n",
       "model4    280352\n",
       "model2    148937\n",
       "model1    140176\n",
       "Name: model, dtype: int64"
      ]
     },
     "execution_count": 50,
     "metadata": {},
     "output_type": "execute_result"
    }
   ],
   "source": [
    "df.model.value_counts()"
   ]
  },
  {
   "cell_type": "code",
   "execution_count": 51,
   "metadata": {},
   "outputs": [
    {
     "data": {
      "text/plain": [
       "(761, 3)"
      ]
     },
     "execution_count": 51,
     "metadata": {},
     "output_type": "execute_result"
    }
   ],
   "source": [
    "df_failures = pd.read_csv(path + 'PdM_failures.csv')\n",
    "df_failures.shape"
   ]
  },
  {
   "cell_type": "code",
   "execution_count": 52,
   "metadata": {},
   "outputs": [
    {
     "name": "stdout",
     "output_type": "stream",
     "text": [
      "model1 failure records: (189, 3)\n",
      "model2 failure records: (168, 3)\n",
      "model3 failure records: (221, 3)\n",
      "model4 failure records: (183, 3)\n"
     ]
    }
   ],
   "source": [
    "for model_type in ['model1', 'model2', 'model3', 'model4']:\n",
    "    id_list = df[df.model == model_type].machineID.unique()\n",
    "    print(f'{model_type} failure records:', df_failures[df_failures.machineID.isin(id_list)].shape)"
   ]
  },
  {
   "cell_type": "markdown",
   "metadata": {},
   "source": [
    "### model3 has the largest number of data and labels. For now, let's only use Model3 data for evaluation."
   ]
  },
  {
   "cell_type": "code",
   "execution_count": 53,
   "metadata": {},
   "outputs": [
    {
     "data": {
      "text/plain": [
       "(306635, 9)"
      ]
     },
     "execution_count": 53,
     "metadata": {},
     "output_type": "execute_result"
    }
   ],
   "source": [
    "df_model3 = df[df.model=='model3']\n",
    "df_model3.shape"
   ]
  },
  {
   "cell_type": "code",
   "execution_count": 54,
   "metadata": {},
   "outputs": [
    {
     "data": {
      "text/plain": [
       "35"
      ]
     },
     "execution_count": 54,
     "metadata": {},
     "output_type": "execute_result"
    }
   ],
   "source": [
    "df_model3.machineID.nunique()"
   ]
  },
  {
   "cell_type": "code",
   "execution_count": 55,
   "metadata": {},
   "outputs": [
    {
     "data": {
      "text/plain": [
       "(221, 3)"
      ]
     },
     "execution_count": 55,
     "metadata": {},
     "output_type": "execute_result"
    }
   ],
   "source": [
    "df_model3_failures = df_failures[df_failures.machineID.isin(df_model3.machineID.unique())]\n",
    "df_model3_failures.shape"
   ]
  },
  {
   "cell_type": "code",
   "execution_count": 56,
   "metadata": {},
   "outputs": [],
   "source": [
    "df_model3_daily = df_model3.groupby(['date', 'machineID']).agg('mean')"
   ]
  },
  {
   "cell_type": "code",
   "execution_count": 57,
   "metadata": {},
   "outputs": [
    {
     "name": "stdout",
     "output_type": "stream",
     "text": [
      "volt: 179.45791154625303\n",
      "rotate: 404.7505991485843\n",
      "vibration: 44.35954992950687\n"
     ]
    }
   ],
   "source": [
    "# We will use these values as threshold value of boolean rule (98 percentile)\n",
    "percentile = 0.96\n",
    "print('volt:', df_model3_daily['volt'].quantile(percentile))\n",
    "print('rotate:', df_model3_daily['rotate'].quantile(1-percentile))\n",
    "print('vibration:', df_model3_daily['vibration'].quantile(percentile))"
   ]
  },
  {
   "cell_type": "code",
   "execution_count": 58,
   "metadata": {},
   "outputs": [
    {
     "data": {
      "text/html": [
       "<div>\n",
       "<style scoped>\n",
       "    .dataframe tbody tr th:only-of-type {\n",
       "        vertical-align: middle;\n",
       "    }\n",
       "\n",
       "    .dataframe tbody tr th {\n",
       "        vertical-align: top;\n",
       "    }\n",
       "\n",
       "    .dataframe thead th {\n",
       "        text-align: right;\n",
       "    }\n",
       "</style>\n",
       "<table border=\"1\" class=\"dataframe\">\n",
       "  <thead>\n",
       "    <tr style=\"text-align: right;\">\n",
       "      <th></th>\n",
       "      <th>volt</th>\n",
       "      <th>rotate</th>\n",
       "      <th>pressure</th>\n",
       "      <th>vibration</th>\n",
       "      <th>age</th>\n",
       "    </tr>\n",
       "  </thead>\n",
       "  <tbody>\n",
       "    <tr>\n",
       "      <th>count</th>\n",
       "      <td>12810.000000</td>\n",
       "      <td>12810.000000</td>\n",
       "      <td>12810.000000</td>\n",
       "      <td>12810.000000</td>\n",
       "      <td>12810.000000</td>\n",
       "    </tr>\n",
       "    <tr>\n",
       "      <th>mean</th>\n",
       "      <td>170.814333</td>\n",
       "      <td>446.486156</td>\n",
       "      <td>100.676527</td>\n",
       "      <td>40.399771</td>\n",
       "      <td>12.028571</td>\n",
       "    </tr>\n",
       "    <tr>\n",
       "      <th>std</th>\n",
       "      <td>4.844358</td>\n",
       "      <td>18.628207</td>\n",
       "      <td>4.420372</td>\n",
       "      <td>2.116506</td>\n",
       "      <td>5.526701</td>\n",
       "    </tr>\n",
       "    <tr>\n",
       "      <th>min</th>\n",
       "      <td>134.008631</td>\n",
       "      <td>274.902422</td>\n",
       "      <td>83.252434</td>\n",
       "      <td>32.154524</td>\n",
       "      <td>1.000000</td>\n",
       "    </tr>\n",
       "    <tr>\n",
       "      <th>25%</th>\n",
       "      <td>168.025315</td>\n",
       "      <td>441.602970</td>\n",
       "      <td>98.662233</td>\n",
       "      <td>39.365385</td>\n",
       "      <td>8.000000</td>\n",
       "    </tr>\n",
       "    <tr>\n",
       "      <th>50%</th>\n",
       "      <td>170.229576</td>\n",
       "      <td>449.271656</td>\n",
       "      <td>100.044740</td>\n",
       "      <td>40.066996</td>\n",
       "      <td>14.000000</td>\n",
       "    </tr>\n",
       "    <tr>\n",
       "      <th>75%</th>\n",
       "      <td>172.493540</td>\n",
       "      <td>456.233763</td>\n",
       "      <td>101.542986</td>\n",
       "      <td>40.823996</td>\n",
       "      <td>17.000000</td>\n",
       "    </tr>\n",
       "    <tr>\n",
       "      <th>max</th>\n",
       "      <td>211.548400</td>\n",
       "      <td>551.314893</td>\n",
       "      <td>152.660905</td>\n",
       "      <td>60.994016</td>\n",
       "      <td>20.000000</td>\n",
       "    </tr>\n",
       "  </tbody>\n",
       "</table>\n",
       "</div>"
      ],
      "text/plain": [
       "               volt        rotate      pressure     vibration           age\n",
       "count  12810.000000  12810.000000  12810.000000  12810.000000  12810.000000\n",
       "mean     170.814333    446.486156    100.676527     40.399771     12.028571\n",
       "std        4.844358     18.628207      4.420372      2.116506      5.526701\n",
       "min      134.008631    274.902422     83.252434     32.154524      1.000000\n",
       "25%      168.025315    441.602970     98.662233     39.365385      8.000000\n",
       "50%      170.229576    449.271656    100.044740     40.066996     14.000000\n",
       "75%      172.493540    456.233763    101.542986     40.823996     17.000000\n",
       "max      211.548400    551.314893    152.660905     60.994016     20.000000"
      ]
     },
     "execution_count": 58,
     "metadata": {},
     "output_type": "execute_result"
    }
   ],
   "source": [
    "df_model3_daily.describe()"
   ]
  },
  {
   "cell_type": "code",
   "execution_count": 59,
   "metadata": {},
   "outputs": [
    {
     "data": {
      "text/plain": [
       "(306600, 9)"
      ]
     },
     "execution_count": 59,
     "metadata": {},
     "output_type": "execute_result"
    }
   ],
   "source": [
    "# Remove 2016-01-01 because machine has only one hour data on this date.\n",
    "\n",
    "import datetime\n",
    "\n",
    "df_model3 = df_model3[df_model3.date != datetime.datetime(2016, 1, 1).date()]\n",
    "df_model3.shape"
   ]
  },
  {
   "cell_type": "code",
   "execution_count": 60,
   "metadata": {},
   "outputs": [
    {
     "name": "stdout",
     "output_type": "stream",
     "text": [
      "(183960, 9) (122640, 9)\n"
     ]
    }
   ],
   "source": [
    "# Split the entire dataset into Training and Test datasets with split_ratio 3:2\n",
    "\n",
    "import numpy as np\n",
    "\n",
    "test_ratio = 0.4\n",
    "n_split = int(df_model3.machineID.nunique() * test_ratio)\n",
    "model3_ids = df_model3.machineID.unique()\n",
    "rng = np.random.default_rng(42)\n",
    "rng.shuffle(model3_ids)\n",
    "\n",
    "model3_ids_for_train = model3_ids[n_split:]\n",
    "model3_ids_for_test = model3_ids[:n_split]\n",
    "\n",
    "df_model3_train = df_model3[df_model3.machineID.isin(model3_ids_for_train)]\n",
    "df_model3_test = df_model3[df_model3.machineID.isin(model3_ids_for_test)]\n",
    "print(df_model3_train.shape, df_model3_test.shape)"
   ]
  },
  {
   "cell_type": "code",
   "execution_count": 61,
   "metadata": {},
   "outputs": [],
   "source": [
    "keys = ['machineID', 'date']\n",
    "features = ['volt', 'rotate', 'pressure', 'vibration']"
   ]
  },
  {
   "cell_type": "code",
   "execution_count": 62,
   "metadata": {},
   "outputs": [
    {
     "name": "stdout",
     "output_type": "stream",
     "text": [
      "number of data points in train dataset: 7665\n",
      "number of data points in test dataset: 5110\n"
     ]
    }
   ],
   "source": [
    "temp_gb = df_model3_train.groupby(keys)\n",
    "list_of_train_daily = [item for item in temp_gb]\n",
    "\n",
    "temp_gb = df_model3_test.groupby(keys)\n",
    "list_of_test_daily = [item for item in temp_gb]\n",
    "\n",
    "print(f'number of data points in train dataset: {len(list_of_train_daily)}')\n",
    "print(f'number of data points in test dataset: {len(list_of_test_daily)}')"
   ]
  },
  {
   "cell_type": "code",
   "execution_count": 63,
   "metadata": {},
   "outputs": [
    {
     "name": "stderr",
     "output_type": "stream",
     "text": [
      "/var/folders/wb/40304xlx477cfjzbk386l2gr0000gn/T/ipykernel_49768/2163752014.py:8: SettingWithCopyWarning:\n",
      "\n",
      "\n",
      "A value is trying to be set on a copy of a slice from a DataFrame.\n",
      "Try using .loc[row_indexer,col_indexer] = value instead\n",
      "\n",
      "See the caveats in the documentation: https://pandas.pydata.org/pandas-docs/stable/user_guide/indexing.html#returning-a-view-versus-a-copy\n",
      "\n",
      "/var/folders/wb/40304xlx477cfjzbk386l2gr0000gn/T/ipykernel_49768/2163752014.py:9: SettingWithCopyWarning:\n",
      "\n",
      "\n",
      "A value is trying to be set on a copy of a slice from a DataFrame.\n",
      "Try using .loc[row_indexer,col_indexer] = value instead\n",
      "\n",
      "See the caveats in the documentation: https://pandas.pydata.org/pandas-docs/stable/user_guide/indexing.html#returning-a-view-versus-a-copy\n",
      "\n",
      "/var/folders/wb/40304xlx477cfjzbk386l2gr0000gn/T/ipykernel_49768/2163752014.py:10: SettingWithCopyWarning:\n",
      "\n",
      "\n",
      "A value is trying to be set on a copy of a slice from a DataFrame.\n",
      "Try using .loc[row_indexer,col_indexer] = value instead\n",
      "\n",
      "See the caveats in the documentation: https://pandas.pydata.org/pandas-docs/stable/user_guide/indexing.html#returning-a-view-versus-a-copy\n",
      "\n"
     ]
    }
   ],
   "source": [
    "\"\"\"\n",
    "From the above EDA, we found that failures can be detected one~two days earlier than \n",
    "the recorded date of failure and it is also reasonable to say that there is a one day \n",
    "gap between machine failed date and repair date. So, we will use (recorded repair date - 1 day) \n",
    "as a ground truth date of machine failure.\n",
    "\"\"\"\n",
    "from datetime import timedelta\n",
    "df_model3_failures['datetime'] = pd.to_datetime(df_model3_failures['datetime'])\n",
    "df_model3_failures['date'] = df_model3_failures['datetime'].apply(lambda x: x.date())\n",
    "df_model3_failures['date_1'] = df_model3_failures['date'] - timedelta(days=1)"
   ]
  },
  {
   "cell_type": "code",
   "execution_count": 64,
   "metadata": {},
   "outputs": [
    {
     "data": {
      "text/plain": [
       "comp2    89\n",
       "comp1    68\n",
       "comp4    64\n",
       "Name: failure, dtype: int64"
      ]
     },
     "execution_count": 64,
     "metadata": {},
     "output_type": "execute_result"
    }
   ],
   "source": [
    "df_model3_failures.failure.value_counts()"
   ]
  },
  {
   "cell_type": "code",
   "execution_count": 65,
   "metadata": {},
   "outputs": [
    {
     "data": {
      "text/html": [
       "<div>\n",
       "<style scoped>\n",
       "    .dataframe tbody tr th:only-of-type {\n",
       "        vertical-align: middle;\n",
       "    }\n",
       "\n",
       "    .dataframe tbody tr th {\n",
       "        vertical-align: top;\n",
       "    }\n",
       "\n",
       "    .dataframe thead th {\n",
       "        text-align: right;\n",
       "    }\n",
       "</style>\n",
       "<table border=\"1\" class=\"dataframe\">\n",
       "  <thead>\n",
       "    <tr style=\"text-align: right;\">\n",
       "      <th></th>\n",
       "      <th>datetime</th>\n",
       "      <th>machineID</th>\n",
       "      <th>failure</th>\n",
       "      <th>date</th>\n",
       "      <th>date_1</th>\n",
       "    </tr>\n",
       "  </thead>\n",
       "  <tbody>\n",
       "    <tr>\n",
       "      <th>0</th>\n",
       "      <td>2015-01-05 06:00:00</td>\n",
       "      <td>1</td>\n",
       "      <td>comp4</td>\n",
       "      <td>2015-01-05</td>\n",
       "      <td>2015-01-04</td>\n",
       "    </tr>\n",
       "    <tr>\n",
       "      <th>1</th>\n",
       "      <td>2015-03-06 06:00:00</td>\n",
       "      <td>1</td>\n",
       "      <td>comp1</td>\n",
       "      <td>2015-03-06</td>\n",
       "      <td>2015-03-05</td>\n",
       "    </tr>\n",
       "    <tr>\n",
       "      <th>2</th>\n",
       "      <td>2015-04-20 06:00:00</td>\n",
       "      <td>1</td>\n",
       "      <td>comp2</td>\n",
       "      <td>2015-04-20</td>\n",
       "      <td>2015-04-19</td>\n",
       "    </tr>\n",
       "    <tr>\n",
       "      <th>3</th>\n",
       "      <td>2015-06-19 06:00:00</td>\n",
       "      <td>1</td>\n",
       "      <td>comp4</td>\n",
       "      <td>2015-06-19</td>\n",
       "      <td>2015-06-18</td>\n",
       "    </tr>\n",
       "    <tr>\n",
       "      <th>4</th>\n",
       "      <td>2015-09-02 06:00:00</td>\n",
       "      <td>1</td>\n",
       "      <td>comp4</td>\n",
       "      <td>2015-09-02</td>\n",
       "      <td>2015-09-01</td>\n",
       "    </tr>\n",
       "    <tr>\n",
       "      <th>5</th>\n",
       "      <td>2015-10-17 06:00:00</td>\n",
       "      <td>1</td>\n",
       "      <td>comp2</td>\n",
       "      <td>2015-10-17</td>\n",
       "      <td>2015-10-16</td>\n",
       "    </tr>\n",
       "    <tr>\n",
       "      <th>6</th>\n",
       "      <td>2015-12-16 06:00:00</td>\n",
       "      <td>1</td>\n",
       "      <td>comp4</td>\n",
       "      <td>2015-12-16</td>\n",
       "      <td>2015-12-15</td>\n",
       "    </tr>\n",
       "  </tbody>\n",
       "</table>\n",
       "</div>"
      ],
      "text/plain": [
       "             datetime  machineID failure        date      date_1\n",
       "0 2015-01-05 06:00:00          1   comp4  2015-01-05  2015-01-04\n",
       "1 2015-03-06 06:00:00          1   comp1  2015-03-06  2015-03-05\n",
       "2 2015-04-20 06:00:00          1   comp2  2015-04-20  2015-04-19\n",
       "3 2015-06-19 06:00:00          1   comp4  2015-06-19  2015-06-18\n",
       "4 2015-09-02 06:00:00          1   comp4  2015-09-02  2015-09-01\n",
       "5 2015-10-17 06:00:00          1   comp2  2015-10-17  2015-10-16\n",
       "6 2015-12-16 06:00:00          1   comp4  2015-12-16  2015-12-15"
      ]
     },
     "execution_count": 65,
     "metadata": {},
     "output_type": "execute_result"
    }
   ],
   "source": [
    "df_model3_failures[(df_model3_failures.machineID==1)]"
   ]
  },
  {
   "cell_type": "code",
   "execution_count": 66,
   "metadata": {},
   "outputs": [],
   "source": [
    "# Generate ground truth label for train and test datasets. \n",
    "# In some failure cases, one machine can have n number of faulty components and, \n",
    "# in that case, we generated n data points with n different kinds of labels."
   ]
  },
  {
   "cell_type": "code",
   "execution_count": 67,
   "metadata": {},
   "outputs": [
    {
     "name": "stdout",
     "output_type": "stream",
     "text": [
      "['volt_0', 'rotate_0', 'pressure_0', 'vibration_0', 'volt_1', 'rotate_1', 'pressure_1', 'vibration_1', 'volt_2', 'rotate_2', 'pressure_2', 'vibration_2', 'volt_3', 'rotate_3', 'pressure_3', 'vibration_3', 'volt_4', 'rotate_4', 'pressure_4', 'vibration_4', 'volt_5', 'rotate_5', 'pressure_5', 'vibration_5', 'volt_6', 'rotate_6', 'pressure_6', 'vibration_6', 'volt_7', 'rotate_7', 'pressure_7', 'vibration_7', 'volt_8', 'rotate_8', 'pressure_8', 'vibration_8', 'volt_9', 'rotate_9', 'pressure_9', 'vibration_9', 'volt_10', 'rotate_10', 'pressure_10', 'vibration_10', 'volt_11', 'rotate_11', 'pressure_11', 'vibration_11', 'volt_12', 'rotate_12', 'pressure_12', 'vibration_12', 'volt_13', 'rotate_13', 'pressure_13', 'vibration_13', 'volt_14', 'rotate_14', 'pressure_14', 'vibration_14', 'volt_15', 'rotate_15', 'pressure_15', 'vibration_15', 'volt_16', 'rotate_16', 'pressure_16', 'vibration_16', 'volt_17', 'rotate_17', 'pressure_17', 'vibration_17', 'volt_18', 'rotate_18', 'pressure_18', 'vibration_18', 'volt_19', 'rotate_19', 'pressure_19', 'vibration_19', 'volt_20', 'rotate_20', 'pressure_20', 'vibration_20', 'volt_21', 'rotate_21', 'pressure_21', 'vibration_21', 'volt_22', 'rotate_22', 'pressure_22', 'vibration_22', 'volt_23', 'rotate_23', 'pressure_23', 'vibration_23']\n"
     ]
    }
   ],
   "source": [
    "column_values = []\n",
    "for idx in range(24):\n",
    "    column_values.extend([f'{feature}_{idx}' for feature in features])\n",
    "print(column_values)"
   ]
  },
  {
   "cell_type": "code",
   "execution_count": 68,
   "metadata": {},
   "outputs": [
    {
     "name": "stdout",
     "output_type": "stream",
     "text": [
      "len(x_train_list): 7665 96\n",
      "len(y_train_list): 7665\n"
     ]
    }
   ],
   "source": [
    "x_train_list = []\n",
    "y_train_list = []\n",
    "for idx, df_daily_one in list_of_train_daily:\n",
    "    mid = idx[0]\n",
    "    date = idx[1]\n",
    "\n",
    "    if df_daily_one.shape[0] != 24:\n",
    "        continue\n",
    "\n",
    "    df_filtered_f = df_model3_failures[\n",
    "        (df_model3_failures.date_1==date)&(df_model3_failures.machineID==mid)]\n",
    "    y_label = {\"comp1\": 0, \"comp2\": 0, \"comp4\": 0}\n",
    "    if df_filtered_f.shape[0] >= 1:\n",
    "        for i in range(df_filtered_f.shape[0]):\n",
    "            y_label.update({df_filtered_f['failure'].iloc[i]: 1})\n",
    "    x_train_list.append(np.concatenate(df_daily_one[features].values).tolist())\n",
    "    y_train_list.append(y_label)\n",
    "\n",
    "print('len(x_train_list):', len(x_train_list), len(x_train_list[0]))\n",
    "print('len(y_train_list):', len(y_train_list))"
   ]
  },
  {
   "cell_type": "code",
   "execution_count": 69,
   "metadata": {},
   "outputs": [
    {
     "name": "stdout",
     "output_type": "stream",
     "text": [
      "len(x_test_list): 5110 96\n",
      "len(y_test_list): 5110\n"
     ]
    }
   ],
   "source": [
    "x_test_list = []\n",
    "y_test_list = []\n",
    "for idx, df_daily_one in list_of_test_daily:\n",
    "    mid = idx[0]\n",
    "    date = idx[1]\n",
    "\n",
    "    if df_daily_one.shape[0] != 24:\n",
    "        continue\n",
    "\n",
    "    df_filtered_f = df_model3_failures[\n",
    "        (df_model3_failures.date_1==date)&(df_model3_failures.machineID==mid)]\n",
    "    y_label = {\"comp1\": 0, \"comp2\": 0, \"comp4\": 0}\n",
    "    if df_filtered_f.shape[0] >= 1:\n",
    "        for i in range(df_filtered_f.shape[0]):   \n",
    "            y_label.update({df_filtered_f['failure'].iloc[i]: 1})\n",
    "    # else:\n",
    "    #     y_label.update({\"normal\": 1})\n",
    "    x_test_list.append(np.concatenate(df_daily_one[features].values).tolist())\n",
    "    # x_test_list.append(df_daily_one[keys+features])\n",
    "    y_test_list.append(y_label)\n",
    "\n",
    "print('len(x_test_list):', len(x_test_list), len(x_test_list[0]))\n",
    "print('len(y_test_list):', len(y_test_list))"
   ]
  },
  {
   "cell_type": "code",
   "execution_count": 70,
   "metadata": {},
   "outputs": [
    {
     "name": "stdout",
     "output_type": "stream",
     "text": [
      "(7665, 96) (7665, 3) (5110, 96) (5110, 3)\n"
     ]
    }
   ],
   "source": [
    "df_train_x = pd.DataFrame(x_train_list, columns=column_values)\n",
    "df_train_y = pd.DataFrame(y_train_list)\n",
    "df_test_x = pd.DataFrame(x_test_list, columns=column_values)\n",
    "df_test_y = pd.DataFrame(y_test_list)\n",
    "print(df_train_x.shape, df_train_y.shape, df_test_x.shape, df_test_y.shape)"
   ]
  },
  {
   "cell_type": "code",
   "execution_count": 71,
   "metadata": {},
   "outputs": [],
   "source": [
    "# Check out the distribution of ground truth labels in test dataset. \n",
    "# In ideal case, dataset should have a balanced classes."
   ]
  },
  {
   "cell_type": "code",
   "execution_count": 72,
   "metadata": {},
   "outputs": [
    {
     "data": {
      "text/plain": [
       "comp1    41\n",
       "comp2    51\n",
       "comp4    38\n",
       "dtype: int64"
      ]
     },
     "execution_count": 72,
     "metadata": {},
     "output_type": "execute_result"
    }
   ],
   "source": [
    "df_train_y.sum()"
   ]
  },
  {
   "cell_type": "code",
   "execution_count": 73,
   "metadata": {},
   "outputs": [
    {
     "data": {
      "text/plain": [
       "comp1    27\n",
       "comp2    38\n",
       "comp4    26\n",
       "dtype: int64"
      ]
     },
     "execution_count": 73,
     "metadata": {},
     "output_type": "execute_result"
    }
   ],
   "source": [
    "df_test_y.sum()"
   ]
  },
  {
   "cell_type": "code",
   "execution_count": 74,
   "metadata": {},
   "outputs": [],
   "source": [
    "# Handle data imbalance"
   ]
  },
  {
   "cell_type": "code",
   "execution_count": 75,
   "metadata": {},
   "outputs": [
    {
     "data": {
      "text/plain": [
       "(100, 3)"
      ]
     },
     "execution_count": 75,
     "metadata": {},
     "output_type": "execute_result"
    }
   ],
   "source": [
    "from sklearn.utils import resample\n",
    "\n",
    "df_train_y_normal = df_train_y[df_train_y.sum(axis=1) == 0]\n",
    "df_train_y_normal_resampled = resample(df_train_y_normal,\n",
    "             replace=True,\n",
    "             n_samples=100,\n",
    "             random_state=42)\n",
    "df_train_y_normal_resampled.shape"
   ]
  },
  {
   "cell_type": "code",
   "execution_count": 76,
   "metadata": {},
   "outputs": [
    {
     "data": {
      "text/plain": [
       "(100, 96)"
      ]
     },
     "execution_count": 76,
     "metadata": {},
     "output_type": "execute_result"
    }
   ],
   "source": [
    "df_train_x_normal_resampled = df_train_x.filter(items = df_train_y_normal_resampled.index, axis=0)\n",
    "df_train_x_normal_resampled.shape"
   ]
  },
  {
   "cell_type": "code",
   "execution_count": 77,
   "metadata": {},
   "outputs": [],
   "source": [
    "assert all(df_train_y_normal_resampled.head().index == df_train_x_normal_resampled.head().index)"
   ]
  },
  {
   "cell_type": "code",
   "execution_count": 78,
   "metadata": {},
   "outputs": [
    {
     "data": {
      "text/plain": [
       "(600, 3)"
      ]
     },
     "execution_count": 78,
     "metadata": {},
     "output_type": "execute_result"
    }
   ],
   "source": [
    "df_train_y_abnormal = df_train_y[df_train_y.sum(axis=1) != 0]\n",
    "df_train_y_abnormal_resampled = resample(df_train_y_abnormal,\n",
    "             replace=True,\n",
    "             n_samples=600,\n",
    "             random_state=42)\n",
    "df_train_y_abnormal_resampled.shape"
   ]
  },
  {
   "cell_type": "code",
   "execution_count": 79,
   "metadata": {},
   "outputs": [
    {
     "data": {
      "text/plain": [
       "(600, 96)"
      ]
     },
     "execution_count": 79,
     "metadata": {},
     "output_type": "execute_result"
    }
   ],
   "source": [
    "df_train_x_abnormal_resampled = df_train_x.filter(items = df_train_y_abnormal_resampled.index, axis=0)\n",
    "df_train_x_abnormal_resampled.shape"
   ]
  },
  {
   "cell_type": "code",
   "execution_count": 80,
   "metadata": {},
   "outputs": [],
   "source": [
    "assert all(df_train_y_abnormal_resampled.head().index == df_train_x_abnormal_resampled.head().index)"
   ]
  },
  {
   "cell_type": "code",
   "execution_count": 81,
   "metadata": {},
   "outputs": [
    {
     "name": "stdout",
     "output_type": "stream",
     "text": [
      "(700, 3) (700, 96)\n"
     ]
    }
   ],
   "source": [
    "df_train_y_final = pd.concat([df_train_y_normal_resampled, df_train_y_abnormal_resampled], axis=0)\n",
    "df_train_x_final = pd.concat([df_train_x_normal_resampled, df_train_x_abnormal_resampled], axis=0)\n",
    "print(df_train_y_final.shape, df_train_x_final.shape)"
   ]
  },
  {
   "cell_type": "code",
   "execution_count": 82,
   "metadata": {},
   "outputs": [
    {
     "data": {
      "text/plain": [
       "comp1    201\n",
       "comp2    239\n",
       "comp4    165\n",
       "dtype: int64"
      ]
     },
     "execution_count": 82,
     "metadata": {},
     "output_type": "execute_result"
    }
   ],
   "source": [
    "df_train_y_final.sum()"
   ]
  },
  {
   "cell_type": "code",
   "execution_count": 83,
   "metadata": {},
   "outputs": [],
   "source": [
    "# For test data, we don't downsample or upsample data"
   ]
  },
  {
   "cell_type": "code",
   "execution_count": 84,
   "metadata": {},
   "outputs": [],
   "source": [
    "input_data = {\n",
    "    \"unlabeled_data\": df_train_x,\n",
    "    \"labeled_data\": {\n",
    "        \"x_train\": df_train_x_final.reset_index(drop=True),\n",
    "        \"y_train\": df_train_y_final.reset_index(drop=True),\n",
    "        \"x_test\": df_test_x,\n",
    "        \"y_test\": df_test_y,\n",
    "    },\n",
    "}"
   ]
  },
  {
   "cell_type": "code",
   "execution_count": 85,
   "metadata": {},
   "outputs": [
    {
     "data": {
      "text/plain": [
       "array([169.7338089 , 445.1798646 ,  96.79711296,  40.38515999])"
      ]
     },
     "execution_count": 85,
     "metadata": {},
     "output_type": "execute_result"
    }
   ],
   "source": [
    "np.average(df_train_x.iloc[0].values.reshape((-1, 4)), axis=0)"
   ]
  },
  {
   "cell_type": "code",
   "execution_count": 86,
   "metadata": {},
   "outputs": [
    {
     "data": {
      "text/plain": [
       "40.38515998915177"
      ]
     },
     "execution_count": 86,
     "metadata": {},
     "output_type": "execute_result"
    }
   ],
   "source": [
    "np.average(df_train_x.iloc[0].values.reshape((-1, 4)), axis=0)[3]"
   ]
  },
  {
   "cell_type": "code",
   "execution_count": 87,
   "metadata": {},
   "outputs": [],
   "source": [
    "from h1st.model.predictive_model import PredictiveModel\n",
    "class TSRuleModel(PredictiveModel):\n",
    "    \n",
    "    # 98 percentile\n",
    "    daily_thresholds = {\n",
    "        \"volt\": 188.83,  # >\n",
    "        \"rotate\": 373.05,  # <\n",
    "        \"vibration\": 49.38,  # >\n",
    "    }\n",
    "\n",
    "    def predict_pointwise(self, input_data):\n",
    "        daily_average = np.average(\n",
    "            input_data.reshape((-1, 4)), axis=0\n",
    "        )\n",
    "        volt_val = daily_average[0]\n",
    "        rotate_val = daily_average[1]\n",
    "        vibration_val = daily_average[3]\n",
    "\n",
    "        pred = {\"comp1\": 0, \"comp2\": 0, \"comp4\": 0}\n",
    "        pred['comp1'] = 1 if volt_val > self.daily_thresholds[\"volt\"] else 0\n",
    "        pred['comp2'] = 1 if rotate_val < self.daily_thresholds[\"rotate\"] else 0\n",
    "        pred['comp4'] = 1 if vibration_val > self.daily_thresholds[\"vibration\"] else 0\n",
    "        return pred\n",
    "\n",
    "    def predict(self, input_data):\n",
    "        df = input_data['x']\n",
    "        return {'predictions': pd.DataFrame(\n",
    "            map(self.predict_pointwise, df.values), \n",
    "        )}  "
   ]
  },
  {
   "cell_type": "code",
   "execution_count": 88,
   "metadata": {},
   "outputs": [],
   "source": [
    "ts_rule_model = TSRuleModel()"
   ]
  },
  {
   "cell_type": "code",
   "execution_count": 89,
   "metadata": {},
   "outputs": [],
   "source": [
    "test_data = {'x': input_data['labeled_data']['x_test']}\n",
    "predictions = ts_rule_model.predict(test_data)"
   ]
  },
  {
   "cell_type": "code",
   "execution_count": 90,
   "metadata": {},
   "outputs": [
    {
     "name": "stderr",
     "output_type": "stream",
     "text": [
      "INFO:root:Evaluated all sub models successfully.\n"
     ]
    }
   ],
   "source": [
    "modeler = OracleModeler()\n",
    "oracle5 = modeler.build_model(\n",
    "    data=input_data, \n",
    "    teacher=TSRuleModel())\n",
    "\n",
    "test_data = {'x': input_data['labeled_data']['x_test']}\n",
    "prediction = oracle5.predict(test_data)"
   ]
  },
  {
   "cell_type": "code",
   "execution_count": 91,
   "metadata": {},
   "outputs": [
    {
     "data": {
      "text/plain": [
       "{'accuracy': {'comp1': {'teacher': 0.9816,\n",
       "   'students': [0.99335, 0.98102],\n",
       "   'ensemblers': 0.9818},\n",
       "  'comp2': {'teacher': 0.98239,\n",
       "   'students': [0.98826, 0.98239],\n",
       "   'ensemblers': 0.98278},\n",
       "  'comp4': {'teacher': 0.98278,\n",
       "   'students': [0.98728, 0.98356],\n",
       "   'ensemblers': 0.98395}},\n",
       " 'precision': {'comp1': {'teacher': 0.15464,\n",
       "   'students': [0.18182, 0.15686],\n",
       "   'ensemblers': 0.1413},\n",
       "  'comp2': {'teacher': 0.23469,\n",
       "   'students': [0.17647, 0.23469],\n",
       "   'ensemblers': 0.21591},\n",
       "  'comp4': {'teacher': 0.21296,\n",
       "   'students': [0.22535, 0.19792],\n",
       "   'ensemblers': 0.20213}},\n",
       " 'recall': {'comp1': {'teacher': 0.55556,\n",
       "   'students': [0.07407, 0.59259],\n",
       "   'ensemblers': 0.48148},\n",
       "  'comp2': {'teacher': 0.60526,\n",
       "   'students': [0.15789, 0.60526],\n",
       "   'ensemblers': 0.5},\n",
       "  'comp4': {'teacher': 0.88462,\n",
       "   'students': [0.61538, 0.73077],\n",
       "   'ensemblers': 0.73077}}}"
      ]
     },
     "execution_count": 91,
     "metadata": {},
     "output_type": "execute_result"
    }
   ],
   "source": [
    "oracle5.metrics"
   ]
  },
  {
   "cell_type": "code",
   "execution_count": 92,
   "metadata": {},
   "outputs": [
    {
     "name": "stderr",
     "output_type": "stream",
     "text": [
      "INFO:root:Evaluated all sub models successfully.\n"
     ]
    }
   ],
   "source": [
    "modeler = OracleModeler()\n",
    "oracle6 = modeler.build_model(\n",
    "    data=input_data, \n",
    "    teacher=TSRuleModel(),\n",
    "    ensembler_modeler=GradBoostEnsembleModeler())\n",
    "\n",
    "test_data = {'x': input_data['labeled_data']['x_test']}\n",
    "predictions = oracle6.predict(test_data)"
   ]
  },
  {
   "cell_type": "code",
   "execution_count": 93,
   "metadata": {},
   "outputs": [
    {
     "data": {
      "text/plain": [
       "{'accuracy': {'comp1': {'teacher': 0.9816,\n",
       "   'students': [0.99315, 0.98102],\n",
       "   'ensemblers': 0.96908},\n",
       "  'comp2': {'teacher': 0.98239,\n",
       "   'students': [0.99002, 0.98239],\n",
       "   'ensemblers': 0.97065},\n",
       "  'comp4': {'teacher': 0.98278,\n",
       "   'students': [0.98689, 0.98356],\n",
       "   'ensemblers': 0.97417}},\n",
       " 'precision': {'comp1': {'teacher': 0.15464,\n",
       "   'students': [0.16667, 0.15686],\n",
       "   'ensemblers': 0.14595},\n",
       "  'comp2': {'teacher': 0.23469,\n",
       "   'students': [0.31429, 0.23469],\n",
       "   'ensemblers': 0.18889},\n",
       "  'comp4': {'teacher': 0.21296,\n",
       "   'students': [0.2029, 0.19792],\n",
       "   'ensemblers': 0.16026}},\n",
       " 'recall': {'comp1': {'teacher': 0.55556,\n",
       "   'students': [0.07407, 0.59259],\n",
       "   'ensemblers': 1.0},\n",
       "  'comp2': {'teacher': 0.60526,\n",
       "   'students': [0.28947, 0.60526],\n",
       "   'ensemblers': 0.89474},\n",
       "  'comp4': {'teacher': 0.88462,\n",
       "   'students': [0.53846, 0.73077],\n",
       "   'ensemblers': 0.96154}}}"
      ]
     },
     "execution_count": 93,
     "metadata": {},
     "output_type": "execute_result"
    }
   ],
   "source": [
    "oracle6.metrics"
   ]
  },
  {
   "cell_type": "code",
   "execution_count": 94,
   "metadata": {},
   "outputs": [
    {
     "name": "stderr",
     "output_type": "stream",
     "text": [
      "INFO:root:Evaluated all sub models successfully.\n"
     ]
    }
   ],
   "source": [
    "modeler = OracleModeler()\n",
    "oracle7 = modeler.build_model(\n",
    "    data=input_data, \n",
    "    teacher=TSRuleModel(),\n",
    "    ensembler_modeler=GradBoostEnsembleModeler(),\n",
    "    inject_x_in_ensembler=True)\n",
    "\n",
    "test_data = {'x': input_data['labeled_data']['x_test']}\n",
    "predictions = oracle7.predict(test_data)"
   ]
  },
  {
   "cell_type": "code",
   "execution_count": 95,
   "metadata": {},
   "outputs": [
    {
     "data": {
      "text/plain": [
       "{'accuracy': {'comp1': {'teacher': 0.9816,\n",
       "   'students': [0.99315, 0.98102],\n",
       "   'ensemblers': 0.9047},\n",
       "  'comp2': {'teacher': 0.98239,\n",
       "   'students': [0.98924, 0.98239],\n",
       "   'ensemblers': 0.97025},\n",
       "  'comp4': {'teacher': 0.98278,\n",
       "   'students': [0.98669, 0.98356],\n",
       "   'ensemblers': 0.97319}},\n",
       " 'precision': {'comp1': {'teacher': 0.15464,\n",
       "   'students': [0.21429, 0.15686],\n",
       "   'ensemblers': 0.05078},\n",
       "  'comp2': {'teacher': 0.23469,\n",
       "   'students': [0.22581, 0.23469],\n",
       "   'ensemblers': 0.18681},\n",
       "  'comp4': {'teacher': 0.21296,\n",
       "   'students': [0.2, 0.19792],\n",
       "   'ensemblers': 0.15528}},\n",
       " 'recall': {'comp1': {'teacher': 0.55556,\n",
       "   'students': [0.11111, 0.59259],\n",
       "   'ensemblers': 0.96296},\n",
       "  'comp2': {'teacher': 0.60526,\n",
       "   'students': [0.18421, 0.60526],\n",
       "   'ensemblers': 0.89474},\n",
       "  'comp4': {'teacher': 0.88462,\n",
       "   'students': [0.53846, 0.73077],\n",
       "   'ensemblers': 0.96154}}}"
      ]
     },
     "execution_count": 95,
     "metadata": {},
     "output_type": "execute_result"
    }
   ],
   "source": [
    "oracle7.metrics"
   ]
  },
  {
   "cell_type": "code",
   "execution_count": 96,
   "metadata": {},
   "outputs": [
    {
     "data": {
      "text/plain": [
       "{'volt': 134.00863144009,\n",
       " 'rotate': 274.90242154138423,\n",
       " 'pressure': 83.2524342454545,\n",
       " 'vibration': 32.1545241275153,\n",
       " 'age': 1.0}"
      ]
     },
     "execution_count": 96,
     "metadata": {},
     "output_type": "execute_result"
    }
   ],
   "source": [
    "dict(df_model3_daily.describe().loc['min'])"
   ]
  },
  {
   "cell_type": "code",
   "execution_count": 97,
   "metadata": {},
   "outputs": [],
   "source": [
    "import numpy as np\n",
    "from h1st.model.fuzzy import (\n",
    "    FuzzyVariables,\n",
    "    FuzzyMembership as fm,\n",
    "    FuzzyRules,\n",
    "    FuzzyModel,\n",
    "    FuzzyModeler\n",
    ")\n",
    "\n",
    "def get_meta_data():\n",
    "    res = {}\n",
    "    for k, v in dict(df_model3_daily.describe().loc['max']).items():\n",
    "        res[k] = {'max': v}\n",
    "    for k, v in dict(df_model3_daily.describe().loc['min']).items():\n",
    "        res[k].update({'min': v})    \n",
    "    return res"
   ]
  },
  {
   "cell_type": "code",
   "execution_count": 98,
   "metadata": {},
   "outputs": [],
   "source": [
    "meta_data = get_meta_data()"
   ]
  },
  {
   "cell_type": "code",
   "execution_count": 99,
   "metadata": {},
   "outputs": [],
   "source": [
    "daily_thresholds = {\n",
    "    \"volt\": 188.83,  # >\n",
    "    \"rotate\": 373.05,  # <\n",
    "    \"vibration\": 49.38,  # >\n",
    "}"
   ]
  },
  {
   "cell_type": "code",
   "execution_count": 100,
   "metadata": {},
   "outputs": [],
   "source": [
    "fuzzy_vars = FuzzyVariables()\n",
    "fuzzy_vars.add(\n",
    "    var_name='volt',\n",
    "    var_type='antecedent',\n",
    "    var_range=np.arange(\n",
    "        meta_data['volt']['min'], \n",
    "        meta_data['volt']['max'], \n",
    "        0.1\n",
    "    ),\n",
    "    membership_funcs=[('high', fm.SIGMOID, [182, 0.25]),\n",
    "                      ('low', fm.SIGMOID, [182, -0.25])]\n",
    ")\n",
    "fuzzy_vars.add(\n",
    "    var_name='rotate',\n",
    "    var_type='antecedent',\n",
    "    var_range=np.arange(\n",
    "        meta_data['rotate']['min'], \n",
    "        meta_data['rotate']['max'], \n",
    "        0.1\n",
    "    ),\n",
    "    membership_funcs=[('high', fm.SIGMOID, [400, 0.06]),\n",
    "                      ('low', fm.SIGMOID, [400, -0.15])]\n",
    ")\n",
    "fuzzy_vars.add(\n",
    "    var_name='vibration',\n",
    "    var_type='antecedent',\n",
    "    var_range=np.arange(\n",
    "        meta_data['vibration']['min'], \n",
    "        meta_data['vibration']['max'], \n",
    "        0.1\n",
    "    ),\n",
    "    membership_funcs=[('high', fm.SIGMOID, [47, 0.5]),\n",
    "                      ('low', fm.SIGMOID, [47, -0.5])]\n",
    ")\n",
    "\n",
    "fuzzy_vars.add(\n",
    "    var_name='comp1',\n",
    "    var_type='consequent',\n",
    "    var_range=np.arange(0, 1+1e-5, 0.1),\n",
    "    membership_funcs=[('false', fm.GAUSSIAN, [0, 0.4]),\n",
    "                      ('true', fm.GAUSSIAN, [1, 0.4])]\n",
    ")\n",
    "fuzzy_vars.add(\n",
    "    var_name='comp2',\n",
    "    var_type='consequent',\n",
    "    var_range=np.arange(0, 1+1e-5, 0.1),\n",
    "    membership_funcs=[('false', fm.GAUSSIAN, [0, 0.4]),\n",
    "                      ('true', fm.GAUSSIAN, [1, 0.4])]\n",
    ")\n",
    "fuzzy_vars.add(\n",
    "    var_name='comp4',\n",
    "    var_type='consequent',\n",
    "    var_range=np.arange(0, 1+1e-5, 0.1),\n",
    "    membership_funcs=[('false', fm.GAUSSIAN, [0, 0.4]),\n",
    "                      ('true', fm.GAUSSIAN, [1, 0.4])]\n",
    ")"
   ]
  },
  {
   "cell_type": "code",
   "execution_count": 101,
   "metadata": {},
   "outputs": [
    {
     "name": "stdout",
     "output_type": "stream",
     "text": [
      "=== Antecedents & Consequents ===\n"
     ]
    },
    {
     "name": "stderr",
     "output_type": "stream",
     "text": [
      "/Users/aitomatic/miniconda3/envs/h1st_fuzzy/lib/python3.9/site-packages/skfuzzy/control/fuzzyvariable.py:122: UserWarning:\n",
      "\n",
      "Matplotlib is currently using module://matplotlib_inline.backend_inline, which is a non-GUI backend, so cannot show the figure.\n",
      "\n"
     ]
    },
    {
     "data": {
      "image/png": "[encoded data removed]",
      "text/plain": [
       "<Figure size 432x288 with 1 Axes>"
      ]
     },
     "metadata": {
      "needs_background": "light"
     },
     "output_type": "display_data"
    },
    {
     "data": {
      "image/png": "[encoded data removed]",
      "text/plain": [
       "<Figure size 432x288 with 1 Axes>"
      ]
     },
     "metadata": {
      "needs_background": "light"
     },
     "output_type": "display_data"
    },
    {
     "data": {
      "image/png": "[encoded data removed]",
      "text/plain": [
       "<Figure size 432x288 with 1 Axes>"
      ]
     },
     "metadata": {
      "needs_background": "light"
     },
     "output_type": "display_data"
    },
    {
     "data": {
      "image/png": "[encoded data removed]",
      "text/plain": [
       "<Figure size 432x288 with 1 Axes>"
      ]
     },
     "metadata": {
      "needs_background": "light"
     },
     "output_type": "display_data"
    },
    {
     "data": {
      "image/png": "[encoded data removed]",
      "text/plain": [
       "<Figure size 432x288 with 1 Axes>"
      ]
     },
     "metadata": {
      "needs_background": "light"
     },
     "output_type": "display_data"
    },
    {
     "data": {
      "image/png": "[encoded data removed]",
      "text/plain": [
       "<Figure size 432x288 with 1 Axes>"
      ]
     },
     "metadata": {
      "needs_background": "light"
     },
     "output_type": "display_data"
    }
   ],
   "source": [
    "fuzzy_vars.visualize()"
   ]
  },
  {
   "cell_type": "code",
   "execution_count": 102,
   "metadata": {},
   "outputs": [],
   "source": [
    "fuzzy_rule = FuzzyRules()\n",
    "fuzzy_rule.add(\n",
    "    'rule1',\n",
    "    if_term=fuzzy_vars.get('volt')['high']&fuzzy_vars.get('rotate')['high']&fuzzy_vars.get('vibration')['low'],\n",
    "    then_term=fuzzy_vars.get('comp1')['true']\n",
    ")\n",
    "fuzzy_rule.add(\n",
    "    'rule2',\n",
    "    if_term=fuzzy_vars.get('rotate')['low']&fuzzy_vars.get('volt')['low']&fuzzy_vars.get('vibration')['low'],\n",
    "    then_term=fuzzy_vars.get('comp2')['true']\n",
    ")\n",
    "fuzzy_rule.add(\n",
    "    'rule3',\n",
    "    if_term=fuzzy_vars.get('vibration')['high']&fuzzy_vars.get('volt')['low']&fuzzy_vars.get('rotate')['high'],\n",
    "    then_term=fuzzy_vars.get('comp4')['true']\n",
    ")\n",
    "fuzzy_rule.add(\n",
    "    'rule4',\n",
    "    if_term=fuzzy_vars.get('volt')['low'],\n",
    "    then_term=fuzzy_vars.get('comp1')['false']\n",
    ")\n",
    "fuzzy_rule.add(\n",
    "    'rule5',\n",
    "    if_term=fuzzy_vars.get('rotate')['high'],\n",
    "    then_term=fuzzy_vars.get('comp2')['false']\n",
    ")\n",
    "fuzzy_rule.add(\n",
    "    'rule6',\n",
    "    if_term=fuzzy_vars.get('vibration')['low'],\n",
    "    then_term=fuzzy_vars.get('comp4')['false']\n",
    ")"
   ]
  },
  {
   "cell_type": "code",
   "execution_count": 103,
   "metadata": {},
   "outputs": [],
   "source": [
    "class CustomFuzzyModel(FuzzyModel):\n",
    "    def process_rules_pointwise(self, input_data: dict) -> dict:\n",
    "        if self.rule_engine is None:\n",
    "            raise ValueError(\n",
    "                (\n",
    "                    \"Property rule_engine is None. Please load your rule_engine \"\n",
    "                    \"to run this method.\"\n",
    "                )\n",
    "            )\n",
    "\n",
    "        # TODO: add preprocess of input_data here\n",
    "        input_data = np.array(list(input_data.values()))\n",
    "        daily_average = np.average(\n",
    "            input_data.reshape((-1, 4)), axis=0\n",
    "        )\n",
    "        input_data = {\n",
    "            \"volt\": daily_average[0],\n",
    "            \"rotate\": daily_average[1],\n",
    "            \"vibration\": daily_average[3]\n",
    "        } \n",
    "        for key, value in input_data.items():\n",
    "            self.rule_engine.input[key] = value\n",
    "        self.rule_engine.compute()\n",
    "\n",
    "        outputs = {}\n",
    "        for cls in self.rule_engine.ctrl.consequents:\n",
    "            outputs[cls.label] = round(self.rule_engine.output[cls.label], 5)\n",
    "        return outputs\n",
    "\n",
    "modeler = FuzzyModeler(model_class=CustomFuzzyModel)\n",
    "ts_teacher = modeler.build_model(fuzzy_vars, fuzzy_rule)"
   ]
  },
  {
   "cell_type": "code",
   "execution_count": null,
   "metadata": {},
   "outputs": [],
   "source": []
  },
  {
   "cell_type": "code",
   "execution_count": 104,
   "metadata": {},
   "outputs": [],
   "source": [
    "predictions = ts_teacher.predict({'x': input_data['unlabeled_data']})['predictions']"
   ]
  },
  {
   "cell_type": "code",
   "execution_count": 105,
   "metadata": {},
   "outputs": [
    {
     "data": {
      "text/plain": [
       "array([[<AxesSubplot:title={'center':'comp1'}>,\n",
       "        <AxesSubplot:title={'center':'comp2'}>],\n",
       "       [<AxesSubplot:title={'center':'comp4'}>, <AxesSubplot:>]],\n",
       "      dtype=object)"
      ]
     },
     "execution_count": 105,
     "metadata": {},
     "output_type": "execute_result"
    },
    {
     "data": {
      "image/png": "[encoded data removed]",
      "text/plain": [
       "<Figure size 432x288 with 4 Axes>"
      ]
     },
     "metadata": {
      "needs_background": "light"
     },
     "output_type": "display_data"
    }
   ],
   "source": [
    "predictions.hist(bins=20)"
   ]
  },
  {
   "cell_type": "code",
   "execution_count": 106,
   "metadata": {},
   "outputs": [
    {
     "name": "stderr",
     "output_type": "stream",
     "text": [
      "INFO:root:Evaluated all sub models successfully.\n"
     ]
    }
   ],
   "source": [
    "fuzzy_thresholds = {'comp1': 0.6, 'comp2': 0.6, 'comp4': 0.6}\n",
    "modeler = OracleModeler()\n",
    "oracle8 = modeler.build_model(\n",
    "    data=input_data, \n",
    "    teacher=ts_teacher,\n",
    "    fuzzy_thresholds=fuzzy_thresholds)\n",
    "\n",
    "test_data = {'x': input_data['labeled_data']['x_test']}\n",
    "prediction = oracle8.predict(test_data)"
   ]
  },
  {
   "cell_type": "code",
   "execution_count": 107,
   "metadata": {},
   "outputs": [
    {
     "data": {
      "text/plain": [
       "{'accuracy': {'comp1': {'teacher': 0.97632,\n",
       "   'students': [0.98904, 0.9773],\n",
       "   'ensemblers': 0.98943},\n",
       "  'comp2': {'teacher': 0.97241,\n",
       "   'students': [0.98004, 0.97241],\n",
       "   'ensemblers': 0.98063},\n",
       "  'comp4': {'teacher': 0.97965,\n",
       "   'students': [0.97906, 0.97847],\n",
       "   'ensemblers': 0.9816}},\n",
       " 'precision': {'comp1': {'teacher': 0.15441,\n",
       "   'students': [0.08571, 0.16031],\n",
       "   'ensemblers': 0.09091},\n",
       "  'comp2': {'teacher': 0.1761,\n",
       "   'students': [0.20909, 0.18788],\n",
       "   'ensemblers': 0.20388},\n",
       "  'comp4': {'teacher': 0.16379,\n",
       "   'students': [0.14783, 0.16129],\n",
       "   'ensemblers': 0.16}},\n",
       " 'recall': {'comp1': {'teacher': 0.77778,\n",
       "   'students': [0.11111, 0.77778],\n",
       "   'ensemblers': 0.11111},\n",
       "  'comp2': {'teacher': 0.73684,\n",
       "   'students': [0.60526, 0.81579],\n",
       "   'ensemblers': 0.55263},\n",
       "  'comp4': {'teacher': 0.73077,\n",
       "   'students': [0.65385, 0.76923],\n",
       "   'ensemblers': 0.61538}}}"
      ]
     },
     "execution_count": 107,
     "metadata": {},
     "output_type": "execute_result"
    }
   ],
   "source": [
    "oracle8.metrics"
   ]
  },
  {
   "cell_type": "code",
   "execution_count": 108,
   "metadata": {},
   "outputs": [
    {
     "name": "stderr",
     "output_type": "stream",
     "text": [
      "INFO:root:Evaluated all sub models successfully.\n"
     ]
    }
   ],
   "source": [
    "fuzzy_thresholds = {'comp1': 0.6, 'comp2': 0.6, 'comp4': 0.6}\n",
    "modeler = OracleModeler()\n",
    "oracle9 = modeler.build_model(\n",
    "    data=input_data, \n",
    "    teacher=ts_teacher,\n",
    "    fuzzy_thresholds=fuzzy_thresholds,\n",
    "    ensembler_modeler=GradBoostEnsembleModeler())\n",
    "\n",
    "test_data = {'x': input_data['labeled_data']['x_test']}\n",
    "prediction = oracle9.predict(test_data)"
   ]
  },
  {
   "cell_type": "code",
   "execution_count": 109,
   "metadata": {},
   "outputs": [
    {
     "data": {
      "text/plain": [
       "{'accuracy': {'comp1': {'teacher': 0.97632,\n",
       "   'students': [0.98885, 0.9773],\n",
       "   'ensemblers': 0.96888},\n",
       "  'comp2': {'teacher': 0.97241,\n",
       "   'students': [0.97926, 0.97241],\n",
       "   'ensemblers': 0.95656},\n",
       "  'comp4': {'teacher': 0.97965,\n",
       "   'students': [0.98102, 0.97847],\n",
       "   'ensemblers': 0.97299}},\n",
       " 'precision': {'comp1': {'teacher': 0.15441,\n",
       "   'students': [0.14286, 0.16031],\n",
       "   'ensemblers': 0.13736},\n",
       "  'comp2': {'teacher': 0.1761,\n",
       "   'students': [0.21667, 0.18788],\n",
       "   'ensemblers': 0.11345},\n",
       "  'comp4': {'teacher': 0.16379,\n",
       "   'students': [0.18584, 0.16129],\n",
       "   'ensemblers': 0.15432}},\n",
       " 'recall': {'comp1': {'teacher': 0.77778,\n",
       "   'students': [0.22222, 0.77778],\n",
       "   'ensemblers': 0.92593},\n",
       "  'comp2': {'teacher': 0.73684,\n",
       "   'students': [0.68421, 0.81579],\n",
       "   'ensemblers': 0.71053},\n",
       "  'comp4': {'teacher': 0.73077,\n",
       "   'students': [0.80769, 0.76923],\n",
       "   'ensemblers': 0.96154}}}"
      ]
     },
     "execution_count": 109,
     "metadata": {},
     "output_type": "execute_result"
    }
   ],
   "source": [
    "oracle9.metrics"
   ]
  },
  {
   "cell_type": "code",
   "execution_count": 110,
   "metadata": {},
   "outputs": [
    {
     "name": "stderr",
     "output_type": "stream",
     "text": [
      "INFO:root:Evaluated all sub models successfully.\n"
     ]
    }
   ],
   "source": [
    "fuzzy_thresholds = {'comp1': 0.6, 'comp2': 0.6, 'comp4': 0.6}\n",
    "modeler = OracleModeler()\n",
    "oracle10 = modeler.build_model(\n",
    "    data=input_data, \n",
    "    teacher=ts_teacher,\n",
    "    fuzzy_thresholds=fuzzy_thresholds,\n",
    "    ensembler_modeler=GradBoostEnsembleModeler(),\n",
    "    inject_x_in_ensembler=True)\n",
    "\n",
    "test_data = {'x': input_data['labeled_data']['x_test']}\n",
    "prediction = oracle10.predict(test_data)"
   ]
  },
  {
   "cell_type": "code",
   "execution_count": 111,
   "metadata": {},
   "outputs": [
    {
     "data": {
      "text/plain": [
       "{'accuracy': {'comp1': {'teacher': 0.97632,\n",
       "   'students': [0.98826, 0.9773],\n",
       "   'ensemblers': 0.97221},\n",
       "  'comp2': {'teacher': 0.97241,\n",
       "   'students': [0.98102, 0.97241],\n",
       "   'ensemblers': 0.97084},\n",
       "  'comp4': {'teacher': 0.97965,\n",
       "   'students': [0.97984, 0.97847],\n",
       "   'ensemblers': 0.9726}},\n",
       " 'precision': {'comp1': {'teacher': 0.15441,\n",
       "   'students': [0.09756, 0.16031],\n",
       "   'ensemblers': 0.13836},\n",
       "  'comp2': {'teacher': 0.1761,\n",
       "   'students': [0.21359, 0.18788],\n",
       "   'ensemblers': 0.17919},\n",
       "  'comp4': {'teacher': 0.16379,\n",
       "   'students': [0.16522, 0.16129],\n",
       "   'ensemblers': 0.15244}},\n",
       " 'recall': {'comp1': {'teacher': 0.77778,\n",
       "   'students': [0.14815, 0.77778],\n",
       "   'ensemblers': 0.81481},\n",
       "  'comp2': {'teacher': 0.73684,\n",
       "   'students': [0.57895, 0.81579],\n",
       "   'ensemblers': 0.81579},\n",
       "  'comp4': {'teacher': 0.73077,\n",
       "   'students': [0.73077, 0.76923],\n",
       "   'ensemblers': 0.96154}}}"
      ]
     },
     "execution_count": 111,
     "metadata": {},
     "output_type": "execute_result"
    }
   ],
   "source": [
    "oracle10.metrics"
   ]
  },
  {
   "cell_type": "code",
   "execution_count": 112,
   "metadata": {},
   "outputs": [
    {
     "ename": "AssertionError",
     "evalue": "",
     "output_type": "error",
     "traceback": [
      "\u001b[0;31m---------------------------------------------------------------------------\u001b[0m",
      "\u001b[0;31mAssertionError\u001b[0m                            Traceback (most recent call last)",
      "\u001b[1;32m/Users/aitomatic/src/github/h1st-ai/h1st/user/example-models/oracle/oracle.ipynb Cell 117\u001b[0m in \u001b[0;36m<cell line: 1>\u001b[0;34m()\u001b[0m\n\u001b[0;32m----> <a href='vscode-notebook-cell:/Users/aitomatic/src/github/h1st-ai/h1st/user/example-models/oracle/oracle.ipynb#Y401sZmlsZQ%3D%3D?line=0'>1</a>\u001b[0m \u001b[39massert\u001b[39;00m \u001b[39m1\u001b[39m \u001b[39m==\u001b[39m \u001b[39m2\u001b[39m\n",
      "\u001b[0;31mAssertionError\u001b[0m: "
     ]
    }
   ],
   "source": [
    "assert 1 == 2"
   ]
  }
 ],
 "metadata": {
  "kernelspec": {
   "display_name": "Python 3.9.12 ('h1st_fuzzy')",
   "language": "python",
   "name": "python3"
  },
  "language_info": {
   "codemirror_mode": {
    "name": "ipython",
    "version": 3
   },
   "file_extension": ".py",
   "mimetype": "text/x-python",
   "name": "python",
   "nbconvert_exporter": "python",
   "pygments_lexer": "ipython3",
   "version": "3.9.12"
  },
  "orig_nbformat": 4,
  "vscode": {
   "interpreter": {
    "hash": "650c0317428e71d2b7b924a16bfe592f0574d896a2da53bfdf150aa01abab0ba"
   }
  }
 },
 "nbformat": 4,
 "nbformat_minor": 2
}
